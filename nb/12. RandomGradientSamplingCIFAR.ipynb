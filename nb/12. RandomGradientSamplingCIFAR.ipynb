{
 "cells": [
  {
   "cell_type": "code",
   "execution_count": 1,
   "metadata": {},
   "outputs": [],
   "source": [
    "import sys\n",
    "sys.path.append('../src')"
   ]
  },
  {
   "cell_type": "code",
   "execution_count": 2,
   "metadata": {},
   "outputs": [],
   "source": [
    "import common.config as cfg\n",
    "from common.nb_utils import estimate_optimal_ncomponents, pca_transform\n",
    "from common.utils import get_device, Struct\n",
    "from data.loader import get_testloader, get_trainloader\n",
    "import matplotlib.pyplot as plt\n",
    "from models.fcn import FCN\n",
    "from models.resnet import resnet18\n",
    "from models.model_op import get_model_grads, gradient_approximation\n",
    "from models.svm import SVM\n",
    "import models.resnet as resnet\n",
    "import numpy as np\n",
    "import pickle as pkl\n",
    "import torch as t\n",
    "import time\n",
    "from tqdm.notebook import tqdm"
   ]
  },
  {
   "cell_type": "code",
   "execution_count": 3,
   "metadata": {},
   "outputs": [],
   "source": [
    "dataset = 'cifar'\n",
    "input_size = cfg.input_sizes[dataset]\n",
    "output_size = cfg.output_sizes[dataset]\n",
    "lr = 1e-1\n",
    "sdirs_algo = 'pca' # 'qr'\n",
    "bs = 16\n",
    "epochs = 20"
   ]
  },
  {
   "cell_type": "code",
   "execution_count": 4,
   "metadata": {},
   "outputs": [],
   "source": [
    "device = t.device('cuda:2')\n",
    "loss = t.nn.CrossEntropyLoss().to(device)"
   ]
  },
  {
   "cell_type": "code",
   "execution_count": 5,
   "metadata": {},
   "outputs": [
    {
     "name": "stdout",
     "output_type": "stream",
     "text": [
      "Files already downloaded and verified\n",
      "Files already downloaded and verified\n"
     ]
    }
   ],
   "source": [
    "trainloader = get_trainloader(dataset, bs, True)\n",
    "testloader = get_testloader(dataset, bs, True)"
   ]
  },
  {
   "cell_type": "code",
   "execution_count": 6,
   "metadata": {},
   "outputs": [
    {
     "data": {
      "application/vnd.jupyter.widget-view+json": {
       "model_id": "0da33ac5b6d2483d8f929baa33e2203d",
       "version_major": 2,
       "version_minor": 0
      },
      "text/plain": [
       "HBox(children=(FloatProgress(value=0.0, max=3125.0), HTML(value='')))"
      ]
     },
     "metadata": {},
     "output_type": "display_data"
    }
   ],
   "source": [
    "sdirs = []\n",
    "m = 6\n",
    "n_accum = m*50\n",
    "for idx, (data, labels) in tqdm(enumerate(trainloader), total=len(trainloader), leave=False):\n",
    "    x, y = data.to(device), labels.to(device)\n",
    "    model = resnet.resnet18(num_channels=3, num_classes=output_size).to(device)\n",
    "    optimizer = t.optim.SGD(model.parameters(), lr=lr)\n",
    "    optimizer.zero_grad()\n",
    "    y_hat = model(x)\n",
    "    loss_val = loss(y_hat, y)\n",
    "    loss_val.backward()\n",
    "    sdirs.append(get_model_grads(model))\n",
    "    if idx == n_accum:\n",
    "        break"
   ]
  },
  {
   "cell_type": "markdown",
   "metadata": {},
   "source": [
    "# pretraining"
   ]
  },
  {
   "cell_type": "code",
   "execution_count": 10,
   "metadata": {},
   "outputs": [
    {
     "name": "stdout",
     "output_type": "stream",
     "text": [
      "Files already downloaded and verified\n",
      "Files already downloaded and verified\n"
     ]
    }
   ],
   "source": [
    "trainloader = get_trainloader(dataset, 256, False)\n",
    "testloader = get_testloader(dataset, 256, False)"
   ]
  },
  {
   "cell_type": "code",
   "execution_count": 11,
   "metadata": {},
   "outputs": [
    {
     "data": {
      "text/plain": [
       "(0, 0.0805)"
      ]
     },
     "execution_count": 11,
     "metadata": {},
     "output_type": "execute_result"
    }
   ],
   "source": [
    "model = resnet.resnet18(num_channels=3, num_classes=output_size).to(device)\n",
    "model.load_state_dict(t.load('../ckpts/init/{}_resnet18.init'.format(dataset)))\n",
    "\n",
    "correcti = 0\n",
    "x_test = 0\n",
    "for idx, (data, labels) in enumerate(testloader):\n",
    "    x, y = data.to(device), labels.to(device)\n",
    "    y_hat = model(x)\n",
    "    loss_val = loss(y_hat, y)\n",
    "    predi = y_hat.argmax(1, keepdim=True)\n",
    "    correcti += predi.eq(y.view_as(predi)).sum().item()\n",
    "y_test = correcti/len(testloader.dataset)\n",
    "x_test, y_test"
   ]
  },
  {
   "cell_type": "markdown",
   "metadata": {},
   "source": [
    "# w/o gradient approximation"
   ]
  },
  {
   "cell_type": "code",
   "execution_count": 12,
   "metadata": {},
   "outputs": [
    {
     "data": {
      "application/vnd.jupyter.widget-view+json": {
       "model_id": "",
       "version_major": 2,
       "version_minor": 0
      },
      "text/plain": [
       "HBox(children=(FloatProgress(value=0.0, max=20.0), HTML(value='')))"
      ]
     },
     "metadata": {},
     "output_type": "display_data"
    },
    {
     "name": "stdout",
     "output_type": "stream",
     "text": [
      "1 \t 1.8116 \t 0.41 \t 0.45\n",
      "2 \t 1.3324 \t 0.57 \t 0.55\n",
      "3 \t 1.5357 \t 0.66 \t 0.60\n",
      "4 \t 1.6865 \t 0.73 \t 0.58\n",
      "5 \t 1.6764 \t 0.78 \t 0.64\n",
      "6 \t 1.4122 \t 0.82 \t 0.64\n",
      "7 \t 2.1281 \t 0.85 \t 0.65\n",
      "8 \t 2.0723 \t 0.89 \t 0.63\n",
      "9 \t 1.3364 \t 0.90 \t 0.66\n",
      "10 \t 2.0341 \t 0.92 \t 0.66\n",
      "11 \t 2.3444 \t 0.94 \t 0.63\n",
      "12 \t 1.8000 \t 0.95 \t 0.67\n",
      "13 \t 2.5264 \t 0.96 \t 0.67\n",
      "14 \t 2.8772 \t 0.97 \t 0.68\n",
      "15 \t 1.9920 \t 0.97 \t 0.68\n",
      "16 \t 3.8344 \t 0.98 \t 0.67\n",
      "17 \t 4.0237 \t 0.98 \t 0.69\n",
      "18 \t 2.6924 \t 0.98 \t 0.68\n",
      "19 \t 4.2781 \t 0.98 \t 0.67\n",
      "20 \t 2.8787 \t 0.99 \t 0.69\n"
     ]
    }
   ],
   "source": [
    "model = resnet.resnet18(num_channels=3, num_classes=output_size).to(device)\n",
    "model.load_state_dict(t.load('../ckpts/init/{}_resnet18.init'.format(dataset)))\n",
    "\n",
    "xb_train, yb_train = [], []\n",
    "xb_test, yb_test =[], []\n",
    "for _ in tqdm(range(1, epochs+1), leave=False):\n",
    "    xb_train.append(_)\n",
    "    correcti = 0\n",
    "    for idx, (data, labels) in enumerate(trainloader):\n",
    "        x, y = data.to(device), labels.to(device)\n",
    "        optimizer = t.optim.SGD(model.parameters(), lr=lr)\n",
    "        optimizer.zero_grad()\n",
    "        y_hat = model(x)\n",
    "        loss_val = loss(y_hat, y)\n",
    "        loss_val.backward()\n",
    "        optimizer.step()\n",
    "        predi = y_hat.argmax(1, keepdim=True)\n",
    "        correcti += predi.eq(y.view_as(predi)).sum().item()\n",
    "    yb_train.append(correcti/len(trainloader.dataset))\n",
    "    \n",
    "    correcti = 0\n",
    "    for idx, (data, labels) in enumerate(testloader):\n",
    "        x, y = data.to(device), labels.to(device)\n",
    "        y_hat = model(x)\n",
    "        loss_val = loss(y_hat, y)\n",
    "        predi = y_hat.argmax(1, keepdim=True)\n",
    "        correcti += predi.eq(y.view_as(predi)).sum().item()\n",
    "    yb_test.append(correcti/len(testloader.dataset))\n",
    "    print('{} \\t {:.4f} \\t {:.2f} \\t {:.2f}'.format(\n",
    "        xb_train[-1], loss_val.item(), yb_train[-1], yb_test[-1]\n",
    "    ))"
   ]
  },
  {
   "cell_type": "markdown",
   "metadata": {},
   "source": [
    "# gradient approximation using n directions"
   ]
  },
  {
   "cell_type": "code",
   "execution_count": 13,
   "metadata": {},
   "outputs": [
    {
     "data": {
      "application/vnd.jupyter.widget-view+json": {
       "model_id": "",
       "version_major": 2,
       "version_minor": 0
      },
      "text/plain": [
       "HBox(children=(FloatProgress(value=0.0, max=20.0), HTML(value='')))"
      ]
     },
     "metadata": {},
     "output_type": "display_data"
    },
    {
     "name": "stdout",
     "output_type": "stream",
     "text": [
      "1 \t 2.2521 \t 0.10 \t 0.12\n",
      "2 \t 2.2237 \t 0.11 \t 0.11\n",
      "3 \t 2.4513 \t 0.11 \t 0.12\n",
      "4 \t 2.2002 \t 0.12 \t 0.12\n",
      "5 \t 2.2442 \t 0.12 \t 0.12\n",
      "6 \t 2.0554 \t 0.12 \t 0.12\n",
      "7 \t 2.3996 \t 0.12 \t 0.13\n",
      "8 \t 3.0536 \t 0.12 \t 0.12\n",
      "9 \t 2.8178 \t 0.13 \t 0.13\n",
      "10 \t 3.5808 \t 0.13 \t 0.12\n",
      "11 \t 3.1469 \t 0.13 \t 0.13\n",
      "12 \t 2.6063 \t 0.13 \t 0.13\n",
      "13 \t 2.9978 \t 0.13 \t 0.13\n",
      "14 \t 2.9811 \t 0.13 \t 0.13\n",
      "15 \t 3.3942 \t 0.13 \t 0.13\n",
      "16 \t 3.0704 \t 0.13 \t 0.13\n",
      "17 \t 3.9713 \t 0.14 \t 0.14\n",
      "18 \t 4.1175 \t 0.14 \t 0.13\n",
      "19 \t 4.5215 \t 0.14 \t 0.13\n",
      "20 \t 4.0296 \t 0.15 \t 0.14\n"
     ]
    }
   ],
   "source": [
    "n = 1\n",
    "model = resnet.resnet18(num_channels=3, num_classes=output_size).to(device)\n",
    "model.load_state_dict(t.load('../ckpts/init/{}_resnet18.init'.format(dataset)))\n",
    "\n",
    "xe_train, ye_train = [], []\n",
    "xe_test, ye_test = [], []\n",
    "for _ in tqdm(range(1, epochs+1), leave=False):\n",
    "    start = time.time()\n",
    "    xe_train.append(_)\n",
    "    xe_test.append(_)\n",
    "    correcti = 0\n",
    "    for idx, (data, labels) in enumerate(trainloader):\n",
    "        x, y = data.to(device), labels.to(device)\n",
    "        optimizer = t.optim.SGD(model.parameters(), lr=lr)\n",
    "        optimizer.zero_grad()\n",
    "        y_hat = model(x)\n",
    "        loss_val = loss(y_hat, y)\n",
    "        loss_val.backward()\n",
    "        _, error = gradient_approximation(\n",
    "            model, \n",
    "            [sdirs[idx]], device, [])\n",
    "        optimizer.step()\n",
    "        predi = y_hat.argmax(1, keepdim=True)\n",
    "        correcti += predi.eq(y.view_as(predi)).sum().item()\n",
    "    ye_train.append(correcti/len(trainloader.dataset))\n",
    "    \n",
    "    correcti = 0\n",
    "    for idx, (data, labels) in enumerate(testloader):\n",
    "        x, y = data.to(device), labels.to(device)\n",
    "        y_hat = model(x)\n",
    "        loss_val = loss(y_hat, y)\n",
    "        predi = y_hat.argmax(1, keepdim=True)\n",
    "        correcti += predi.eq(y.view_as(predi)).sum().item()\n",
    "    ye_test.append(correcti/len(testloader.dataset))\n",
    "    print('{} \\t {:.4f} \\t {:.2f} \\t {:.2f}'.format(\n",
    "        xe_train[-1], loss_val.item(), ye_train[-1], ye_test[-1]\n",
    "    ))"
   ]
  },
  {
   "cell_type": "code",
   "execution_count": 14,
   "metadata": {},
   "outputs": [
    {
     "data": {
      "application/vnd.jupyter.widget-view+json": {
       "model_id": "",
       "version_major": 2,
       "version_minor": 0
      },
      "text/plain": [
       "HBox(children=(FloatProgress(value=0.0, max=20.0), HTML(value='')))"
      ]
     },
     "metadata": {},
     "output_type": "display_data"
    },
    {
     "name": "stdout",
     "output_type": "stream",
     "text": [
      "1 \t 3.4564 \t 0.10 \t 0.11\n",
      "2 \t 5.5912 \t 0.11 \t 0.13\n",
      "3 \t 6.4935 \t 0.13 \t 0.13\n",
      "4 \t 4.8606 \t 0.15 \t 0.16\n",
      "5 \t 3.8762 \t 0.17 \t 0.16\n",
      "6 \t 3.5521 \t 0.18 \t 0.17\n",
      "7 \t 2.6685 \t 0.19 \t 0.20\n",
      "8 \t 2.4586 \t 0.20 \t 0.20\n",
      "9 \t 2.6326 \t 0.20 \t 0.20\n",
      "10 \t 3.2054 \t 0.21 \t 0.21\n",
      "11 \t 3.3688 \t 0.21 \t 0.22\n",
      "12 \t 3.3465 \t 0.22 \t 0.22\n",
      "13 \t 3.3177 \t 0.22 \t 0.21\n",
      "14 \t 3.3357 \t 0.23 \t 0.22\n",
      "15 \t 2.9141 \t 0.23 \t 0.22\n",
      "16 \t 2.9897 \t 0.23 \t 0.22\n",
      "17 \t 2.6919 \t 0.23 \t 0.23\n",
      "18 \t 3.2098 \t 0.23 \t 0.23\n",
      "19 \t 3.3937 \t 0.24 \t 0.23\n",
      "20 \t 3.3229 \t 0.25 \t 0.24\n"
     ]
    }
   ],
   "source": [
    "n = 10\n",
    "model = resnet.resnet18(num_channels=3, num_classes=output_size).to(device)\n",
    "model.load_state_dict(t.load('../ckpts/init/{}_resnet18.init'.format(dataset)))\n",
    "\n",
    "xc_train, yc_train = [], []\n",
    "xc_test, yc_test = [], []\n",
    "for _ in tqdm(range(1, epochs+1), leave=False):\n",
    "    start = time.time()\n",
    "    xc_train.append(_)\n",
    "    xc_test.append(_)\n",
    "    correcti = 0\n",
    "    for idx, (data, labels) in enumerate(trainloader):\n",
    "        x, y = data.to(device), labels.to(device)\n",
    "        optimizer = t.optim.SGD(model.parameters(), lr=lr)\n",
    "        optimizer.zero_grad()\n",
    "        y_hat = model(x)\n",
    "        loss_val = loss(y_hat, y)\n",
    "        loss_val.backward()\n",
    "        _, error = gradient_approximation(\n",
    "            model, \n",
    "            sdirs[idx:idx+n], device, [])\n",
    "        optimizer.step()\n",
    "        predi = y_hat.argmax(1, keepdim=True)\n",
    "        correcti += predi.eq(y.view_as(predi)).sum().item()\n",
    "    yc_train.append(correcti/len(trainloader.dataset))\n",
    "    \n",
    "    correcti = 0\n",
    "    for idx, (data, labels) in enumerate(testloader):\n",
    "        x, y = data.to(device), labels.to(device)\n",
    "        y_hat = model(x)\n",
    "        loss_val = loss(y_hat, y)\n",
    "        predi = y_hat.argmax(1, keepdim=True)\n",
    "        correcti += predi.eq(y.view_as(predi)).sum().item()\n",
    "    yc_test.append(correcti/len(testloader.dataset))\n",
    "    print('{} \\t {:.4f} \\t {:.2f} \\t {:.2f}'.format(\n",
    "        xc_train[-1], loss_val.item(), yc_train[-1], yc_test[-1]\n",
    "    ))"
   ]
  },
  {
   "cell_type": "code",
   "execution_count": null,
   "metadata": {},
   "outputs": [
    {
     "data": {
      "application/vnd.jupyter.widget-view+json": {
       "model_id": "0240989f0e4d4380ace199e7cf5ad30d",
       "version_major": 2,
       "version_minor": 0
      },
      "text/plain": [
       "HBox(children=(FloatProgress(value=0.0, max=20.0), HTML(value='')))"
      ]
     },
     "metadata": {},
     "output_type": "display_data"
    },
    {
     "name": "stdout",
     "output_type": "stream",
     "text": [
      "1 \t 6.4768 \t 0.11 \t 0.10\n",
      "2 \t 4.8594 \t 0.11 \t 0.11\n",
      "3 \t 3.8907 \t 0.13 \t 0.10\n"
     ]
    }
   ],
   "source": [
    "n = 100\n",
    "model = resnet.resnet18(num_channels=3, num_classes=output_size).to(device)\n",
    "model.load_state_dict(t.load('../ckpts/init/{}_resnet18.init'.format(dataset)))\n",
    "\n",
    "xd_train, yd_train = [], []\n",
    "xd_test, yd_test = [], []\n",
    "for _ in tqdm(range(1, epochs+1), leave=False):\n",
    "    start = time.time()\n",
    "    xd_train.append(_)\n",
    "    xd_test.append(_)\n",
    "    correcti = 0\n",
    "    for idx, (data, labels) in enumerate(trainloader):\n",
    "        x, y = data.to(device), labels.to(device)\n",
    "        optimizer = t.optim.SGD(model.parameters(), lr=lr)\n",
    "        optimizer.zero_grad()\n",
    "        y_hat = model(x)\n",
    "        loss_val = loss(y_hat, y)\n",
    "        loss_val.backward()\n",
    "        _, error = gradient_approximation(\n",
    "            model, \n",
    "            sdirs[idx:idx+n], device, [])\n",
    "        optimizer.step()\n",
    "        predi = y_hat.argmax(1, keepdim=True)\n",
    "        correcti += predi.eq(y.view_as(predi)).sum().item()\n",
    "    yd_train.append(correcti/len(trainloader.dataset))\n",
    "    \n",
    "    correcti = 0\n",
    "    for idx, (data, labels) in enumerate(testloader):\n",
    "        x, y = data.to(device), labels.to(device)\n",
    "        y_hat = model(x)\n",
    "        loss_val = loss(y_hat, y)\n",
    "        predi = y_hat.argmax(1, keepdim=True)\n",
    "        correcti += predi.eq(y.view_as(predi)).sum().item()\n",
    "    yd_test.append(correcti/len(testloader.dataset))\n",
    "    print('{} \\t {:.4f} \\t {:.2f} \\t {:.2f}'.format(\n",
    "        xd_train[-1], loss_val.item(), yd_train[-1], yd_test[-1]\n",
    "    ))"
   ]
  },
  {
   "cell_type": "code",
   "execution_count": 18,
   "metadata": {},
   "outputs": [
    {
     "name": "stdout",
     "output_type": "stream",
     "text": [
      "clf_resnet18_cifar_algo_pca_bs_16_sgd_vs_sgd_approx_random_grad_sampling\n"
     ]
    },
    {
     "data": {
      "image/png": "[encoded data removed]",
      "text/plain": [
       "<Figure size 432x288 with 1 Axes>"
      ]
     },
     "metadata": {
      "needs_background": "light"
     },
     "output_type": "display_data"
    }
   ],
   "source": [
    "plt.figure()\n",
    "plt.plot([x_test]+xb_train, [y_test]+yb_test, label='SGD', c='r')\n",
    "# plt.plot([x_test]+xa_train, [y_test]+ya_test, label='SGD {}-approx.'.format(len(sdirs)), c='b')\n",
    "plt.plot([x_test]+xc_train, [y_test]+yc_test, label='SGD 10-approx.', c='g')\n",
    "plt.plot([x_test]+xd_train, [y_test]+yd_test, label='SGD 100-approx.', c='k')\n",
    "plt.plot([x_test]+xe_train, [y_test]+ye_test, label='SGD 1-approx.', c='c')\n",
    "\n",
    "history = {\n",
    "    'test': [x_test, y_test],\n",
    "#     'a': [xa_train, ya_train, xa_test, ya_test],\n",
    "    'b': [xb_train, yb_train, xb_test, yb_test],\n",
    "    'c': [xc_train, yc_train, xc_test, yc_test],\n",
    "    'd': [xd_train, yd_train, xd_test, yd_test],\n",
    "    'e': [xe_train, ye_train, xe_test, ye_test],\n",
    "}\n",
    "\n",
    "name = 'clf_{}_{}_algo_{}_bs_{}_sgd_vs_sgd_approx_random_grad_sampling'.format(\n",
    "    'resnet18', dataset, sdirs_algo, bs)\n",
    "print(name)\n",
    "\n",
    "pkl.dump(history, open('../ckpts/history/{}.pkl'.format(name), 'wb'))\n",
    "\n",
    "plt.xlabel('epochs')\n",
    "plt.ylabel('accuracy')\n",
    "plt.legend()\n",
    "plt.savefig(\n",
    "    '../ckpts/plots/{}.png'.format(name), \n",
    "    dpi=300, bbox_inches='tight'\n",
    ")"
   ]
  },
  {
   "cell_type": "code",
   "execution_count": null,
   "metadata": {},
   "outputs": [],
   "source": []
  }
 ],
 "metadata": {
  "kernelspec": {
   "display_name": "Python 3",
   "language": "python",
   "name": "python3"
  },
  "language_info": {
   "codemirror_mode": {
    "name": "ipython",
    "version": 3
   },
   "file_extension": ".py",
   "mimetype": "text/x-python",
   "name": "python",
   "nbconvert_exporter": "python",
   "pygments_lexer": "ipython3",
   "version": "3.7.6"
  }
 },
 "nbformat": 4,
 "nbformat_minor": 4
}
