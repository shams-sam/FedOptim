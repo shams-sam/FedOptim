{
 "cells": [
  {
   "cell_type": "code",
   "execution_count": 1,
   "metadata": {},
   "outputs": [],
   "source": [
    "import os\n",
    "os.chdir('../src')\n",
    "import numpy as np\n",
    "np.set_printoptions(precision=2)"
   ]
  },
  {
   "cell_type": "code",
   "execution_count": 2,
   "metadata": {},
   "outputs": [],
   "source": [
    "import matplotlib.pyplot as plt\n",
    "import numpy as np\n",
    "from directed_gradient import DirectedGradient\n",
    "from test_optims import conj_step\n",
    "import test_fn as test_fn\n",
    "from terminaltables import DoubleTable as Table\n",
    "import torch as t"
   ]
  },
  {
   "cell_type": "code",
   "execution_count": 3,
   "metadata": {},
   "outputs": [],
   "source": [
    "dim = 2\n",
    "\n",
    "num_epochs = 100\n",
    "log_int=1\n",
    "final_table = True\n",
    "\n",
    "visualize = dim == 2\n",
    "xlim = 5.0\n",
    "ylim = 5.0\n",
    "delta = 0.25"
   ]
  },
  {
   "cell_type": "markdown",
   "metadata": {},
   "source": [
    "- high sensitivity to learning rate for CGD"
   ]
  },
  {
   "cell_type": "code",
   "execution_count": 4,
   "metadata": {},
   "outputs": [],
   "source": [
    "lr = {\n",
    "    'booth': 4e-3,\n",
    "    'himmelblau': 1e-3,\n",
    "    'square': 1e-2,\n",
    "    'rastrigin': 1e-4,\n",
    "    'rosenbrock': 1e-5,\n",
    "}\n",
    "\n",
    "init = {\n",
    "    'booth': 4.5,\n",
    "    'himmelblau': 4.5,\n",
    "    'square': 4.5,\n",
    "    'rastrigin': 1.5,\n",
    "    'rosenbrock': 2.0,\n",
    "}\n",
    "\n",
    "fn = {\n",
    "    'booth': test_fn.booth,\n",
    "    'himmelblau': test_fn.himmelblau,\n",
    "    'square': test_fn.square,\n",
    "    'rastrigin': test_fn.rastrigin,\n",
    "    'rosenbrock': test_fn.rosenbrock\n",
    "}"
   ]
  },
  {
   "cell_type": "code",
   "execution_count": 5,
   "metadata": {},
   "outputs": [
    {
     "name": "stdout",
     "output_type": "stream",
     "text": [
      "╔Test════════╦═══════════╗\n",
      "║ func       ║ output    ║\n",
      "╠════════════╬═══════════╣\n",
      "║ booth      ║ 2.0       ║\n",
      "║ himmelblau ║ 26.0      ║\n",
      "║ square     ║ 7.9999995 ║\n",
      "║ rastrigin  ║ 8.0       ║\n",
      "║ rosenbrock ║ 401.0     ║\n",
      "╚════════════╩═══════════╝\n"
     ]
    }
   ],
   "source": [
    "tmp = [t.tensor([2, 2], dtype=t.float)]\n",
    "table = [['func', 'output']]\n",
    "for _, f in fn.items():\n",
    "    table.append([_, '{:.8}'.format(f(tmp).item())])\n",
    "table = Table(table, 'Test')\n",
    "print(table.table)"
   ]
  },
  {
   "cell_type": "code",
   "execution_count": 6,
   "metadata": {
    "scrolled": false
   },
   "outputs": [
    {
     "data": {
      "image/png": "[encoded data removed]",
      "text/plain": [
       "<Figure size 1080x288 with 3 Axes>"
      ]
     },
     "metadata": {
      "needs_background": "light"
     },
     "output_type": "display_data"
    },
    {
     "name": "stdout",
     "output_type": "stream",
     "text": [
      "╔booth╦═══════════════════════╦═══════════════════════╦═══════════════════════╦═══════════════════════════════════╗\n",
      "║  ep ║ pt                    ║ grad                  ║ sdir                  ║ fn_val                            ║\n",
      "╠═════╬═══════════════════════╬═══════════════════════╬═══════════════════════╬═══════════════════════════════════╣\n",
      "║ 100 ║ [ 2.05e+12 -3.06e+12] ║ [-3.96e+12 -1.42e+13] ║ [ 5.88e+27 -8.76e+27] ║ 17633090474420352285933568.000000 ║\n",
      "╚═════╩═══════════════════════╩═══════════════════════╩═══════════════════════╩═══════════════════════════════════╝\n"
     ]
    }
   ],
   "source": [
    "hist = {_:[] for _ in lr}\n",
    "for fn_name in lr:\n",
    "    params = [t.tensor([init[fn_name] for _ in range(dim)], dtype=t.float, requires_grad=True)]\n",
    "    opt = DirectedGradient(params, lr=lr[fn_name])\n",
    "\n",
    "    table = [['ep', 'pt', 'grad', 'sdir', 'fn_val']]\n",
    "    fig = plt.figure(figsize=(15, 4))\n",
    "    ax1 = fig.add_subplot(131)\n",
    "    ax2 = fig.add_subplot(132)\n",
    "    ax3 = ax2.twinx()\n",
    "\n",
    "    sdirs = []\n",
    "    ograds = []\n",
    "    for epoch in range(num_epochs):\n",
    "        loss = fn[fn_name](params)\n",
    "        opt.zero_grad()\n",
    "        loss.backward()\n",
    "        if (epoch+1)%log_int == 0:\n",
    "            table.append([\n",
    "                epoch+1, \n",
    "                params[0].clone().detach().numpy(), \n",
    "                [_.grad for _ in params][0].clone().numpy(), '',\n",
    "                '{:.6f}'.format(loss.item())\n",
    "            ])\n",
    "        ograds, sdirs = conj_step(params, ograds, sdirs, opt, lr[fn_name], 'pr')\n",
    "        if (epoch+1)%log_int == 0:\n",
    "            table[-1][3] = sdirs[0].numpy()\n",
    "        hist[fn_name].append(sdirs[0].clone())\n",
    "\n",
    "    x = np.arange(-xlim, xlim, delta)\n",
    "    y = np.arange(-ylim, ylim, delta)\n",
    "    X, Y = np.meshgrid(x, y)\n",
    "    size = X.shape\n",
    "    Z = np.array([fn[fn_name]([t.tensor(_)]).item() for _ in zip(X.flatten(), Y.flatten())]).reshape(size)\n",
    "    CS = ax1.contourf(X, Y, Z)\n",
    "    ax1.set_title('(a)', y=-0.25)\n",
    "    x, y = [], []\n",
    "    for row in table[1:]:\n",
    "        pt = row[1]\n",
    "        x.append(pt[0].item())\n",
    "        y.append(pt[1].item())\n",
    "    ax1.plot(x, y, 'ro-')\n",
    "    ax1.set_xlabel('X')\n",
    "    ax1.set_ylabel('Y')\n",
    "    ax1.grid()\n",
    "\n",
    "\n",
    "    data = [(_[0], t.norm(t.tensor(_[2])).item(), float(_[4])) for _ in table[1:]]\n",
    "    x, y2, y1 = zip(*data)\n",
    "    ax2.plot(x, y1, 'bs-', label='loss')\n",
    "    ax3.plot(x, y2, 'gs-', label='gradient')\n",
    "    ax2.set_xlabel('epochs')\n",
    "    ax2.set_ylabel('loss')\n",
    "    ax3.set_ylabel('gradient')\n",
    "    ax2.set_title('(b)', y=-0.25)\n",
    "    ax2.grid()\n",
    "    ax2.legend(loc='upper right', bbox_to_anchor=(-1, 1.1, 1.25, 0.02), frameon=False)\n",
    "    ax3.legend(loc='upper right', bbox_to_anchor=(-0.2, 1.1, 1.25, 0.02), frameon=False)\n",
    "    plt.show()\n",
    "\n",
    "    if final_table:\n",
    "        table = [table[0], table[-1]]\n",
    "    table = Table(table, fn_name)\n",
    "    table.justify_columns[0] = 'right'\n",
    "    print(table.table)\n",
    "    break"
   ]
  },
  {
   "cell_type": "code",
   "execution_count": null,
   "metadata": {},
   "outputs": [],
   "source": [
    "for fn_name in hist:\n",
    "    h = hist[fn_name]\n",
    "    for i in range(len(h)-1):\n",
    "        print(t.dot(h[i], h[i+1]))"
   ]
  },
  {
   "cell_type": "code",
   "execution_count": null,
   "metadata": {},
   "outputs": [],
   "source": []
  }
 ],
 "metadata": {
  "kernelspec": {
   "display_name": "Python 3",
   "language": "python",
   "name": "python3"
  },
  "language_info": {
   "codemirror_mode": {
    "name": "ipython",
    "version": 3
   },
   "file_extension": ".py",
   "mimetype": "text/x-python",
   "name": "python",
   "nbconvert_exporter": "python",
   "pygments_lexer": "ipython3",
   "version": "3.7.6"
  },
  "name": "WorkSheet.ipynb"
 },
 "nbformat": 4,
 "nbformat_minor": 4
}
