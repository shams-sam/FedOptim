{
 "cells": [
  {
   "cell_type": "code",
   "execution_count": 1,
   "metadata": {},
   "outputs": [],
   "source": [
    "import sys\n",
    "sys.path.append('../src')"
   ]
  },
  {
   "cell_type": "code",
   "execution_count": 2,
   "metadata": {},
   "outputs": [],
   "source": [
    "import common.config as cfg\n",
    "from common.nb_utils import estimate_optimal_ncomponents, pca_transform\n",
    "from common.utils import get_device, Struct\n",
    "from data.loader import get_testloader, get_trainloader\n",
    "import matplotlib.pyplot as plt\n",
    "from models.fcn import FCN\n",
    "from models.resnet import resnet18\n",
    "from models.model_op import get_random_grads, gradient_approximation\n",
    "from models.svm import SVM\n",
    "import models.resnet as resnet\n",
    "import numpy as np\n",
    "import pickle as pkl\n",
    "import torch as t\n",
    "import time\n",
    "from tqdm.notebook import tqdm"
   ]
  },
  {
   "cell_type": "code",
   "execution_count": 3,
   "metadata": {},
   "outputs": [],
   "source": [
    "dataset = 'cifar'\n",
    "input_size = cfg.input_sizes[dataset]\n",
    "output_size = cfg.output_sizes[dataset]\n",
    "lr = 1e-1\n",
    "sdirs_algo = 'pca' # 'qr'\n",
    "bs = 16\n",
    "epochs = 20"
   ]
  },
  {
   "cell_type": "code",
   "execution_count": 6,
   "metadata": {},
   "outputs": [],
   "source": [
    "device = t.device('cuda:1')\n",
    "loss = t.nn.CrossEntropyLoss().to(device)"
   ]
  },
  {
   "cell_type": "code",
   "execution_count": 7,
   "metadata": {},
   "outputs": [
    {
     "name": "stdout",
     "output_type": "stream",
     "text": [
      "Files already downloaded and verified\n",
      "Files already downloaded and verified\n"
     ]
    }
   ],
   "source": [
    "trainloader = get_trainloader(dataset, bs, True)\n",
    "testloader = get_testloader(dataset, bs, True)"
   ]
  },
  {
   "cell_type": "code",
   "execution_count": 8,
   "metadata": {},
   "outputs": [
    {
     "data": {
      "application/vnd.jupyter.widget-view+json": {
       "model_id": "323a817ae4304838a4d0a18190e62ce0",
       "version_major": 2,
       "version_minor": 0
      },
      "text/plain": [
       "HBox(children=(FloatProgress(value=0.0, max=300.0), HTML(value='')))"
      ]
     },
     "metadata": {},
     "output_type": "display_data"
    },
    {
     "name": "stdout",
     "output_type": "stream",
     "text": [
      "\n"
     ]
    }
   ],
   "source": [
    "sdirs = []\n",
    "m = 6\n",
    "n_accum = m*50\n",
    "for idx in tqdm(range(n_accum)):\n",
    "    model = resnet.resnet18(num_channels=3, num_classes=output_size).to(device)\n",
    "    sdirs.append(get_random_grads(model, np.sqrt(n_accum), device))"
   ]
  },
  {
   "cell_type": "markdown",
   "metadata": {},
   "source": [
    "# pretraining"
   ]
  },
  {
   "cell_type": "code",
   "execution_count": 12,
   "metadata": {},
   "outputs": [
    {
     "name": "stdout",
     "output_type": "stream",
     "text": [
      "Files already downloaded and verified\n",
      "Files already downloaded and verified\n"
     ]
    }
   ],
   "source": [
    "trainloader = get_trainloader(dataset, 256, False)\n",
    "testloader = get_testloader(dataset, 256, False)"
   ]
  },
  {
   "cell_type": "code",
   "execution_count": 13,
   "metadata": {},
   "outputs": [
    {
     "data": {
      "text/plain": [
       "(0, 0.0805)"
      ]
     },
     "execution_count": 13,
     "metadata": {},
     "output_type": "execute_result"
    }
   ],
   "source": [
    "model = resnet.resnet18(num_channels=3, num_classes=output_size).to(device)\n",
    "model.load_state_dict(t.load('../ckpts/init/{}_resnet18.init'.format(dataset)))\n",
    "\n",
    "correcti = 0\n",
    "x_test = 0\n",
    "for idx, (data, labels) in enumerate(testloader):\n",
    "    x, y = data.to(device), labels.to(device)\n",
    "    y_hat = model(x)\n",
    "    loss_val = loss(y_hat, y)\n",
    "    predi = y_hat.argmax(1, keepdim=True)\n",
    "    correcti += predi.eq(y.view_as(predi)).sum().item()\n",
    "y_test = correcti/len(testloader.dataset)\n",
    "x_test, y_test"
   ]
  },
  {
   "cell_type": "markdown",
   "metadata": {},
   "source": [
    "# w/o gradient approximation"
   ]
  },
  {
   "cell_type": "code",
   "execution_count": 14,
   "metadata": {},
   "outputs": [
    {
     "data": {
      "application/vnd.jupyter.widget-view+json": {
       "model_id": "",
       "version_major": 2,
       "version_minor": 0
      },
      "text/plain": [
       "HBox(children=(FloatProgress(value=0.0, max=20.0), HTML(value='')))"
      ]
     },
     "metadata": {},
     "output_type": "display_data"
    },
    {
     "name": "stdout",
     "output_type": "stream",
     "text": [
      "1 \t 1.7847 \t 0.41 \t 0.43\n",
      "2 \t 2.1442 \t 0.58 \t 0.54\n",
      "3 \t 1.1766 \t 0.66 \t 0.58\n",
      "4 \t 1.7179 \t 0.72 \t 0.60\n",
      "5 \t 2.0080 \t 0.78 \t 0.61\n",
      "6 \t 1.5175 \t 0.82 \t 0.64\n",
      "7 \t 1.2597 \t 0.85 \t 0.63\n",
      "8 \t 1.7308 \t 0.88 \t 0.63\n",
      "9 \t 0.8485 \t 0.91 \t 0.63\n",
      "10 \t 0.7528 \t 0.92 \t 0.64\n",
      "11 \t 1.1417 \t 0.94 \t 0.66\n",
      "12 \t 1.5007 \t 0.95 \t 0.67\n",
      "13 \t 2.0343 \t 0.96 \t 0.67\n",
      "14 \t 1.4824 \t 0.97 \t 0.67\n",
      "15 \t 0.7608 \t 0.97 \t 0.67\n",
      "16 \t 1.0551 \t 0.98 \t 0.68\n",
      "17 \t 1.8604 \t 0.98 \t 0.68\n",
      "18 \t 1.7758 \t 0.98 \t 0.67\n",
      "19 \t 2.0077 \t 0.98 \t 0.68\n",
      "20 \t 1.5410 \t 0.99 \t 0.69\n",
      "\r"
     ]
    }
   ],
   "source": [
    "model = resnet.resnet18(num_channels=3, num_classes=output_size).to(device)\n",
    "model.load_state_dict(t.load('../ckpts/init/{}_resnet18.init'.format(dataset)))\n",
    "\n",
    "xb_train, yb_train = [], []\n",
    "xb_test, yb_test =[], []\n",
    "for _ in tqdm(range(1, epochs+1), leave=False):\n",
    "    xb_train.append(_)\n",
    "    correcti = 0\n",
    "    for idx, (data, labels) in enumerate(trainloader):\n",
    "        x, y = data.to(device), labels.to(device)\n",
    "        optimizer = t.optim.SGD(model.parameters(), lr=lr)\n",
    "        optimizer.zero_grad()\n",
    "        y_hat = model(x)\n",
    "        loss_val = loss(y_hat, y)\n",
    "        loss_val.backward()\n",
    "        optimizer.step()\n",
    "        predi = y_hat.argmax(1, keepdim=True)\n",
    "        correcti += predi.eq(y.view_as(predi)).sum().item()\n",
    "    yb_train.append(correcti/len(trainloader.dataset))\n",
    "    \n",
    "    correcti = 0\n",
    "    for idx, (data, labels) in enumerate(testloader):\n",
    "        x, y = data.to(device), labels.to(device)\n",
    "        y_hat = model(x)\n",
    "        loss_val = loss(y_hat, y)\n",
    "        predi = y_hat.argmax(1, keepdim=True)\n",
    "        correcti += predi.eq(y.view_as(predi)).sum().item()\n",
    "    yb_test.append(correcti/len(testloader.dataset))\n",
    "    print('{} \\t {:.4f} \\t {:.2f} \\t {:.2f}'.format(\n",
    "        xb_train[-1], loss_val.item(), yb_train[-1], yb_test[-1]\n",
    "    ))"
   ]
  },
  {
   "cell_type": "markdown",
   "metadata": {},
   "source": [
    "# gradient approximation using n directions"
   ]
  },
  {
   "cell_type": "code",
   "execution_count": 15,
   "metadata": {},
   "outputs": [
    {
     "data": {
      "application/vnd.jupyter.widget-view+json": {
       "model_id": "",
       "version_major": 2,
       "version_minor": 0
      },
      "text/plain": [
       "HBox(children=(FloatProgress(value=0.0, max=20.0), HTML(value='')))"
      ]
     },
     "metadata": {},
     "output_type": "display_data"
    },
    {
     "name": "stdout",
     "output_type": "stream",
     "text": [
      "1 \t 2.6932 \t 0.08 \t 0.08\n",
      "2 \t 2.6515 \t 0.08 \t 0.09\n",
      "3 \t 2.6595 \t 0.09 \t 0.10\n",
      "4 \t 2.6927 \t 0.09 \t 0.10\n",
      "5 \t 2.6679 \t 0.10 \t 0.10\n",
      "6 \t 2.6270 \t 0.10 \t 0.10\n",
      "7 \t 2.5472 \t 0.11 \t 0.10\n",
      "8 \t 2.4857 \t 0.11 \t 0.11\n",
      "9 \t 2.4657 \t 0.11 \t 0.11\n",
      "10 \t 2.4811 \t 0.11 \t 0.12\n",
      "11 \t 2.5679 \t 0.12 \t 0.12\n",
      "12 \t 2.5658 \t 0.12 \t 0.12\n",
      "13 \t 2.5416 \t 0.12 \t 0.12\n",
      "14 \t 2.5597 \t 0.12 \t 0.12\n",
      "15 \t 2.5170 \t 0.12 \t 0.12\n",
      "16 \t 2.5571 \t 0.12 \t 0.12\n",
      "17 \t 2.5860 \t 0.13 \t 0.13\n",
      "18 \t 2.5824 \t 0.13 \t 0.13\n",
      "19 \t 2.5382 \t 0.13 \t 0.13\n",
      "20 \t 2.4953 \t 0.13 \t 0.13\n",
      "\r"
     ]
    }
   ],
   "source": [
    "n = 1\n",
    "model = resnet.resnet18(num_channels=3, num_classes=output_size).to(device)\n",
    "model.load_state_dict(t.load('../ckpts/init/{}_resnet18.init'.format(dataset)))\n",
    "\n",
    "xe_train, ye_train = [], []\n",
    "xe_test, ye_test = [], []\n",
    "for _ in tqdm(range(1, epochs+1), leave=False):\n",
    "    start = time.time()\n",
    "    xe_train.append(_)\n",
    "    xe_test.append(_)\n",
    "    correcti = 0\n",
    "    for idx, (data, labels) in enumerate(trainloader):\n",
    "        x, y = data.to(device), labels.to(device)\n",
    "        optimizer = t.optim.SGD(model.parameters(), lr=lr)\n",
    "        optimizer.zero_grad()\n",
    "        y_hat = model(x)\n",
    "        loss_val = loss(y_hat, y)\n",
    "        loss_val.backward()\n",
    "        _, error = gradient_approximation(\n",
    "            model, \n",
    "            [sdirs[idx]], device, [])\n",
    "        optimizer.step()\n",
    "        predi = y_hat.argmax(1, keepdim=True)\n",
    "        correcti += predi.eq(y.view_as(predi)).sum().item()\n",
    "    ye_train.append(correcti/len(trainloader.dataset))\n",
    "    \n",
    "    correcti = 0\n",
    "    for idx, (data, labels) in enumerate(testloader):\n",
    "        x, y = data.to(device), labels.to(device)\n",
    "        y_hat = model(x)\n",
    "        loss_val = loss(y_hat, y)\n",
    "        predi = y_hat.argmax(1, keepdim=True)\n",
    "        correcti += predi.eq(y.view_as(predi)).sum().item()\n",
    "    ye_test.append(correcti/len(testloader.dataset))\n",
    "    print('{} \\t {:.4f} \\t {:.2f} \\t {:.2f}'.format(\n",
    "        xe_train[-1], loss_val.item(), ye_train[-1], ye_test[-1]\n",
    "    ))"
   ]
  },
  {
   "cell_type": "code",
   "execution_count": 16,
   "metadata": {},
   "outputs": [
    {
     "data": {
      "application/vnd.jupyter.widget-view+json": {
       "model_id": "",
       "version_major": 2,
       "version_minor": 0
      },
      "text/plain": [
       "HBox(children=(FloatProgress(value=0.0, max=20.0), HTML(value='')))"
      ]
     },
     "metadata": {},
     "output_type": "display_data"
    },
    {
     "name": "stdout",
     "output_type": "stream",
     "text": [
      "1 \t 2.5078 \t 0.09 \t 0.11\n",
      "2 \t 2.5327 \t 0.11 \t 0.13\n",
      "3 \t 2.4441 \t 0.13 \t 0.14\n",
      "4 \t 2.3901 \t 0.15 \t 0.15\n",
      "5 \t 2.4031 \t 0.16 \t 0.16\n",
      "6 \t 2.4743 \t 0.17 \t 0.17\n",
      "7 \t 2.5807 \t 0.18 \t 0.18\n",
      "8 \t 2.6554 \t 0.18 \t 0.19\n",
      "9 \t 2.6849 \t 0.19 \t 0.20\n",
      "10 \t 2.4819 \t 0.20 \t 0.20\n",
      "11 \t 2.4057 \t 0.20 \t 0.20\n",
      "12 \t 2.2914 \t 0.20 \t 0.21\n",
      "13 \t 2.2633 \t 0.21 \t 0.21\n",
      "14 \t 2.3378 \t 0.21 \t 0.21\n",
      "15 \t 2.3900 \t 0.21 \t 0.22\n",
      "16 \t 2.0908 \t 0.21 \t 0.22\n",
      "17 \t 2.0557 \t 0.22 \t 0.22\n",
      "18 \t 1.9749 \t 0.22 \t 0.22\n",
      "19 \t 1.8400 \t 0.22 \t 0.23\n",
      "20 \t 1.9371 \t 0.23 \t 0.22\n",
      "\r"
     ]
    }
   ],
   "source": [
    "n = 10\n",
    "model = resnet.resnet18(num_channels=3, num_classes=output_size).to(device)\n",
    "model.load_state_dict(t.load('../ckpts/init/{}_resnet18.init'.format(dataset)))\n",
    "\n",
    "xc_train, yc_train = [], []\n",
    "xc_test, yc_test = [], []\n",
    "for _ in tqdm(range(1, epochs+1), leave=False):\n",
    "    start = time.time()\n",
    "    xc_train.append(_)\n",
    "    xc_test.append(_)\n",
    "    correcti = 0\n",
    "    for idx, (data, labels) in enumerate(trainloader):\n",
    "        x, y = data.to(device), labels.to(device)\n",
    "        optimizer = t.optim.SGD(model.parameters(), lr=lr)\n",
    "        optimizer.zero_grad()\n",
    "        y_hat = model(x)\n",
    "        loss_val = loss(y_hat, y)\n",
    "        loss_val.backward()\n",
    "        _, error = gradient_approximation(\n",
    "            model, \n",
    "            sdirs[idx:idx+n], device, [])\n",
    "        optimizer.step()\n",
    "        predi = y_hat.argmax(1, keepdim=True)\n",
    "        correcti += predi.eq(y.view_as(predi)).sum().item()\n",
    "    yc_train.append(correcti/len(trainloader.dataset))\n",
    "    \n",
    "    correcti = 0\n",
    "    for idx, (data, labels) in enumerate(testloader):\n",
    "        x, y = data.to(device), labels.to(device)\n",
    "        y_hat = model(x)\n",
    "        loss_val = loss(y_hat, y)\n",
    "        predi = y_hat.argmax(1, keepdim=True)\n",
    "        correcti += predi.eq(y.view_as(predi)).sum().item()\n",
    "    yc_test.append(correcti/len(testloader.dataset))\n",
    "    print('{} \\t {:.4f} \\t {:.2f} \\t {:.2f}'.format(\n",
    "        xc_train[-1], loss_val.item(), yc_train[-1], yc_test[-1]\n",
    "    ))"
   ]
  },
  {
   "cell_type": "code",
   "execution_count": null,
   "metadata": {},
   "outputs": [
    {
     "data": {
      "application/vnd.jupyter.widget-view+json": {
       "model_id": "1f8053a941ca49fdb570661869312567",
       "version_major": 2,
       "version_minor": 0
      },
      "text/plain": [
       "HBox(children=(FloatProgress(value=0.0, max=20.0), HTML(value='')))"
      ]
     },
     "metadata": {},
     "output_type": "display_data"
    },
    {
     "name": "stdout",
     "output_type": "stream",
     "text": [
      "1 \t 2.3007 \t 0.15 \t 0.19\n",
      "2 \t 2.2820 \t 0.22 \t 0.24\n"
     ]
    }
   ],
   "source": [
    "n = 100\n",
    "model = resnet.resnet18(num_channels=3, num_classes=output_size).to(device)\n",
    "model.load_state_dict(t.load('../ckpts/init/{}_resnet18.init'.format(dataset)))\n",
    "\n",
    "xd_train, yd_train = [], []\n",
    "xd_test, yd_test = [], []\n",
    "for _ in tqdm(range(1, epochs+1), leave=False):\n",
    "    start = time.time()\n",
    "    xd_train.append(_)\n",
    "    xd_test.append(_)\n",
    "    correcti = 0\n",
    "    for idx, (data, labels) in enumerate(trainloader):\n",
    "        x, y = data.to(device), labels.to(device)\n",
    "        optimizer = t.optim.SGD(model.parameters(), lr=lr)\n",
    "        optimizer.zero_grad()\n",
    "        y_hat = model(x)\n",
    "        loss_val = loss(y_hat, y)\n",
    "        loss_val.backward()\n",
    "        _, error = gradient_approximation(\n",
    "            model, \n",
    "            sdirs[idx: idx+n], device, [])\n",
    "        optimizer.step()\n",
    "        predi = y_hat.argmax(1, keepdim=True)\n",
    "        correcti += predi.eq(y.view_as(predi)).sum().item()\n",
    "    yd_train.append(correcti/len(trainloader.dataset))\n",
    "    \n",
    "    correcti = 0\n",
    "    for idx, (data, labels) in enumerate(testloader):\n",
    "        x, y = data.to(device), labels.to(device)\n",
    "        y_hat = model(x)\n",
    "        loss_val = loss(y_hat, y)\n",
    "        predi = y_hat.argmax(1, keepdim=True)\n",
    "        correcti += predi.eq(y.view_as(predi)).sum().item()\n",
    "    yd_test.append(correcti/len(testloader.dataset))\n",
    "    print('{} \\t {:.4f} \\t {:.2f} \\t {:.2f}'.format(\n",
    "        xd_train[-1], loss_val.item(), yd_train[-1], yd_test[-1]\n",
    "    ))"
   ]
  },
  {
   "cell_type": "code",
   "execution_count": 18,
   "metadata": {},
   "outputs": [
    {
     "name": "stdout",
     "output_type": "stream",
     "text": [
      "clf_resnet18_cifar_algo_pca_bs_16_sgd_vs_sgd_approx_random_proj_sampling\n"
     ]
    },
    {
     "data": {
      "image/png": "[encoded data removed]",
      "text/plain": [
       "<Figure size 432x288 with 1 Axes>"
      ]
     },
     "metadata": {
      "needs_background": "light"
     },
     "output_type": "display_data"
    }
   ],
   "source": [
    "plt.figure()\n",
    "plt.plot([x_test]+xb_train, [y_test]+yb_test, label='SGD', c='r')\n",
    "# plt.plot([x_test]+xa_train, [y_test]+ya_test, label='SGD {}-approx.'.format(len(sdirs)), c='b')\n",
    "plt.plot([x_test]+xc_train, [y_test]+yc_test, label='SGD 10-approx.', c='g')\n",
    "plt.plot([x_test]+xd_train, [y_test]+yd_test, label='SGD 100-approx.', c='k')\n",
    "plt.plot([x_test]+xe_train, [y_test]+ye_test, label='SGD 1-approx.', c='c')\n",
    "\n",
    "history = {\n",
    "    'test': [x_test, y_test],\n",
    "#     'a': [xa_train, ya_train, xa_test, ya_test],\n",
    "    'b': [xb_train, yb_train, xb_test, yb_test],\n",
    "    'c': [xc_train, yc_train, xc_test, yc_test],\n",
    "    'd': [xd_train, yd_train, xd_test, yd_test],\n",
    "    'e': [xe_train, ye_train, xe_test, ye_test],\n",
    "}\n",
    "\n",
    "name = 'clf_{}_{}_algo_{}_bs_{}_sgd_vs_sgd_approx_random_proj_sampling'.format(\n",
    "    'resnet18', dataset, sdirs_algo, bs)\n",
    "print(name)\n",
    "\n",
    "pkl.dump(history, open('../ckpts/history/{}.pkl'.format(name), 'wb'))\n",
    "\n",
    "plt.xlabel('epochs')\n",
    "plt.ylabel('accuracy')\n",
    "plt.legend()\n",
    "plt.savefig(\n",
    "    '../ckpts/plots/{}.png'.format(name), \n",
    "    dpi=300, bbox_inches='tight'\n",
    ")"
   ]
  },
  {
   "cell_type": "markdown",
   "metadata": {},
   "source": [
    "# Comparisons"
   ]
  },
  {
   "cell_type": "code",
   "execution_count": 19,
   "metadata": {},
   "outputs": [
    {
     "name": "stdout",
     "output_type": "stream",
     "text": [
      "clf_resnet18_cifar_algo_pca_bs_16_sgd_vs_sgd_approx_comparison\n"
     ]
    },
    {
     "data": {
      "image/png": "[encoded data removed]",
      "text/plain": [
       "<Figure size 432x288 with 1 Axes>"
      ]
     },
     "metadata": {
      "needs_background": "light"
     },
     "output_type": "display_data"
    }
   ],
   "source": [
    "name = 'clf_{}_{}_algo_{}_bs_{}_sgd_vs_sgd_approx_random_proj_sampling'.format(\n",
    "    'resnet18', dataset, sdirs_algo, bs)\n",
    "\n",
    "history = pkl.load(open('../ckpts/history/{}.pkl'.format(name), 'rb'))\n",
    "h = pkl.load(open('../ckpts/history/{}.pkl'.format(name.replace('proj', 'grad')), 'rb'))\n",
    "\n",
    "plt.figure()\n",
    "plt.plot([x_test]+xb_train, [y_test]+yb_test, label='SGD', c='r')\n",
    "plt.plot([history['test'][0]]+history['d'][0], [history['test'][1]]+history['d'][-1], \n",
    "         label='SGD 100-random.', c='k', linestyle='--')\n",
    "plt.plot([h['test'][0]]+h['d'][0], [h['test'][1]]+h['d'][-1], label='SGD 100-grad.', c='k')\n",
    "plt.plot([history['test'][0]]+history['c'][0], [history['test'][1]]+history['c'][-1], \n",
    "         label='SGD 10-random.', c='g', linestyle='--')\n",
    "plt.plot([h['test'][0]]+h['c'][0], [h['test'][1]]+h['c'][-1], label='SGD 10-grad.', c='g')\n",
    "plt.plot([history['test'][0]]+history['e'][0], [history['test'][1]]+history['e'][-1], \n",
    "         label='SGD 1-random.', c='c', linestyle='--')\n",
    "plt.plot([h['test'][0]]+h['e'][0], [h['test'][1]]+h['e'][-1], label='SGD 1-grad.', c='c')\n",
    "\n",
    "plt.xlabel('epochs')\n",
    "plt.ylabel('accuracy')\n",
    "plt.legend()\n",
    "cname = 'clf_{}_{}_algo_{}_bs_{}_sgd_vs_sgd_approx_comparison'.format(\n",
    "    'resnet18', dataset, sdirs_algo, bs)\n",
    "print(cname)\n",
    "plt.savefig(\n",
    "    '../ckpts/plots/{}.png'.format(cname), \n",
    "    dpi=300, bbox_inches='tight'\n",
    ")"
   ]
  },
  {
   "cell_type": "code",
   "execution_count": null,
   "metadata": {},
   "outputs": [],
   "source": []
  }
 ],
 "metadata": {
  "kernelspec": {
   "display_name": "Python 3",
   "language": "python",
   "name": "python3"
  },
  "language_info": {
   "codemirror_mode": {
    "name": "ipython",
    "version": 3
   },
   "file_extension": ".py",
   "mimetype": "text/x-python",
   "name": "python",
   "nbconvert_exporter": "python",
   "pygments_lexer": "ipython3",
   "version": "3.7.6"
  }
 },
 "nbformat": 4,
 "nbformat_minor": 4
}
