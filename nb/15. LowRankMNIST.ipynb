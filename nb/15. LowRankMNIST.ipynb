{
 "cells": [
  {
   "cell_type": "code",
   "execution_count": 1,
   "metadata": {},
   "outputs": [],
   "source": [
    "import sys\n",
    "sys.path.append('../src')"
   ]
  },
  {
   "cell_type": "code",
   "execution_count": 2,
   "metadata": {},
   "outputs": [],
   "source": [
    "import common.config as cfg\n",
    "from common.nb_utils import estimate_optimal_ncomponents, pca_transform\n",
    "from common.utils import get_device, Struct\n",
    "from data.loader import get_testloader, get_trainloader\n",
    "import matplotlib.pyplot as plt\n",
    "from models.fcn import FCN\n",
    "from models.resnet import resnet18\n",
    "from models.model_op import weights_init\n",
    "from models.svm import SVM\n",
    "import models.resnet as resnet\n",
    "import numpy as np\n",
    "import pickle as pkl\n",
    "import torch as t\n",
    "import time\n",
    "from tqdm.notebook import tqdm"
   ]
  },
  {
   "cell_type": "code",
   "execution_count": 3,
   "metadata": {},
   "outputs": [],
   "source": [
    "dataset = 'mnist'\n",
    "input_size = cfg.input_sizes[dataset]\n",
    "output_size = cfg.output_sizes[dataset]\n",
    "lr = 1e-1\n",
    "sdirs_algo = 'pca' # 'qr'\n",
    "bs = 16\n",
    "epochs = 10"
   ]
  },
  {
   "cell_type": "code",
   "execution_count": 4,
   "metadata": {},
   "outputs": [],
   "source": [
    "device = t.device('cuda:1')\n",
    "loss = t.nn.CrossEntropyLoss().to(device)"
   ]
  },
  {
   "cell_type": "code",
   "execution_count": 5,
   "metadata": {},
   "outputs": [],
   "source": [
    "trainloader = get_trainloader(dataset, bs, True)\n",
    "testloader = get_testloader(dataset, bs, True)"
   ]
  },
  {
   "cell_type": "markdown",
   "metadata": {},
   "source": [
    "# pretraining"
   ]
  },
  {
   "cell_type": "code",
   "execution_count": 6,
   "metadata": {},
   "outputs": [],
   "source": [
    "trainloader = get_trainloader(dataset, 256, True)\n",
    "testloader = get_testloader(dataset, 256, True)"
   ]
  },
  {
   "cell_type": "code",
   "execution_count": 7,
   "metadata": {},
   "outputs": [
    {
     "data": {
      "text/plain": [
       "(0, 0.1087)"
      ]
     },
     "execution_count": 7,
     "metadata": {},
     "output_type": "execute_result"
    }
   ],
   "source": [
    "model = resnet.resnet18(num_channels=1, num_classes=output_size).to(device)\n",
    "model.load_state_dict(t.load('../ckpts/init/{}_resnet18.init'.format(dataset)))\n",
    "\n",
    "correcti = 0\n",
    "x_test = 0\n",
    "for idx, (data, labels) in enumerate(testloader):\n",
    "    x, y = data.to(device), labels.to(device)\n",
    "    y_hat = model(x)\n",
    "    loss_val = loss(y_hat, y)\n",
    "    predi = y_hat.argmax(1, keepdim=True)\n",
    "    correcti += predi.eq(y.view_as(predi)).sum().item()\n",
    "y_test = correcti/len(testloader.dataset)\n",
    "x_test, y_test"
   ]
  },
  {
   "cell_type": "markdown",
   "metadata": {},
   "source": [
    "# w/o gradient approximation"
   ]
  },
  {
   "cell_type": "code",
   "execution_count": 9,
   "metadata": {},
   "outputs": [
    {
     "name": "stdout",
     "output_type": "stream",
     "text": [
      "epoch \t val_loss \t val_acc \t train_acc\n"
     ]
    },
    {
     "data": {
      "application/vnd.jupyter.widget-view+json": {
       "model_id": "",
       "version_major": 2,
       "version_minor": 0
      },
      "text/plain": [
       "HBox(children=(FloatProgress(value=0.0, max=10.0), HTML(value='')))"
      ]
     },
     "metadata": {},
     "output_type": "display_data"
    },
    {
     "name": "stdout",
     "output_type": "stream",
     "text": [
      "1 \t 0.0144 \t 0.98 \t 0.95\n",
      "2 \t 0.0500 \t 0.99 \t 0.99\n",
      "3 \t 0.0159 \t 0.99 \t 0.99\n",
      "4 \t 0.0201 \t 0.99 \t 1.00\n",
      "5 \t 0.0567 \t 0.99 \t 1.00\n",
      "6 \t 0.2466 \t 0.99 \t 1.00\n",
      "7 \t 0.1329 \t 0.99 \t 1.00\n",
      "8 \t 0.4939 \t 0.99 \t 1.00\n",
      "9 \t 0.3016 \t 0.99 \t 1.00\n",
      "10 \t 0.0005 \t 0.99 \t 1.00\n",
      "\r"
     ]
    }
   ],
   "source": [
    "model = resnet.resnet18(num_channels=1, num_classes=output_size).to(device)\n",
    "model.load_state_dict(t.load('../ckpts/init/{}_resnet18.init'.format(dataset)))\n",
    "\n",
    "xb_train, yb_train = [], []\n",
    "xb_test, yb_test =[], []\n",
    "print('epoch \\t val_loss \\t val_acc \\t train_acc')\n",
    "for _ in tqdm(range(1, epochs+1), leave=False):\n",
    "    xb_train.append(_)\n",
    "    correcti = 0\n",
    "    for idx, (data, labels) in enumerate(trainloader):\n",
    "        x, y = data.to(device), labels.to(device)\n",
    "        optimizer = t.optim.SGD(model.parameters(), lr=lr)\n",
    "        optimizer.zero_grad()\n",
    "        y_hat = model(x)\n",
    "        loss_val = loss(y_hat, y)\n",
    "        loss_val.backward()\n",
    "        optimizer.step()\n",
    "        predi = y_hat.argmax(1, keepdim=True)\n",
    "        correcti += predi.eq(y.view_as(predi)).sum().item()\n",
    "    yb_train.append(correcti/len(trainloader.dataset))\n",
    "    \n",
    "    correcti = 0\n",
    "    for idx, (data, labels) in enumerate(testloader):\n",
    "        x, y = data.to(device), labels.to(device)\n",
    "        y_hat = model(x)\n",
    "        loss_val = loss(y_hat, y)\n",
    "        predi = y_hat.argmax(1, keepdim=True)\n",
    "        correcti += predi.eq(y.view_as(predi)).sum().item()\n",
    "    yb_test.append(correcti/len(testloader.dataset))\n",
    "    print('{} \\t {:.4f} \\t {:.2f} \\t {:.2f}'.format(\n",
    "        xb_train[-1], loss_val.item(), yb_test[-1], yb_train[-1],\n",
    "    ))"
   ]
  },
  {
   "cell_type": "markdown",
   "metadata": {},
   "source": [
    "# Rank 1 weights"
   ]
  },
  {
   "cell_type": "code",
   "execution_count": 42,
   "metadata": {},
   "outputs": [],
   "source": [
    "def svd(model, k):\n",
    "    with t.no_grad():\n",
    "        for param in model.parameters():\n",
    "            u, s, v = t.svd(param)\n",
    "            print(u.shape, s.shape, v.shape)\n",
    "            print(t.diag_embed(s).shape)\n",
    "            print(u.mm(s).mm(v.T).shape)"
   ]
  },
  {
   "cell_type": "code",
   "execution_count": 43,
   "metadata": {},
   "outputs": [
    {
     "name": "stdout",
     "output_type": "stream",
     "text": [
      "epoch \t val_loss \t val_acc \t train_acc\n"
     ]
    },
    {
     "data": {
      "application/vnd.jupyter.widget-view+json": {
       "model_id": "11241fbc0b2849df837e24e202176276",
       "version_major": 2,
       "version_minor": 0
      },
      "text/plain": [
       "HBox(children=(FloatProgress(value=0.0, max=10.0), HTML(value='')))"
      ]
     },
     "metadata": {},
     "output_type": "display_data"
    },
    {
     "name": "stdout",
     "output_type": "stream",
     "text": [
      "torch.Size([64, 1, 7, 7]) torch.Size([64, 1, 7]) torch.Size([64, 1, 7, 7])\n",
      "torch.Size([64, 1, 7, 7])\n"
     ]
    },
    {
     "ename": "RuntimeError",
     "evalue": "2D tensors expected, got 4D, 3D tensors at /pytorch/aten/src/THC/generic/THCTensorMathBlas.cu:282",
     "output_type": "error",
     "traceback": [
      "\u001b[0;31m---------------------------------------------------------------------------\u001b[0m",
      "\u001b[0;31mRuntimeError\u001b[0m                              Traceback (most recent call last)",
      "\u001b[0;32m<ipython-input-43-44aacc76d282>\u001b[0m in \u001b[0;36m<module>\u001b[0;34m\u001b[0m\n\u001b[1;32m      9\u001b[0m     \u001b[0mxa_train\u001b[0m\u001b[0;34m.\u001b[0m\u001b[0mappend\u001b[0m\u001b[0;34m(\u001b[0m\u001b[0m_\u001b[0m\u001b[0;34m)\u001b[0m\u001b[0;34m\u001b[0m\u001b[0;34m\u001b[0m\u001b[0m\n\u001b[1;32m     10\u001b[0m     \u001b[0mcorrecti\u001b[0m \u001b[0;34m=\u001b[0m \u001b[0;36m0\u001b[0m\u001b[0;34m\u001b[0m\u001b[0;34m\u001b[0m\u001b[0m\n\u001b[0;32m---> 11\u001b[0;31m     \u001b[0msvd\u001b[0m\u001b[0;34m(\u001b[0m\u001b[0mmodel\u001b[0m\u001b[0;34m,\u001b[0m \u001b[0mk\u001b[0m\u001b[0;34m)\u001b[0m\u001b[0;34m\u001b[0m\u001b[0;34m\u001b[0m\u001b[0m\n\u001b[0m\u001b[1;32m     12\u001b[0m     \u001b[0;32mfor\u001b[0m \u001b[0midx\u001b[0m\u001b[0;34m,\u001b[0m \u001b[0;34m(\u001b[0m\u001b[0mdata\u001b[0m\u001b[0;34m,\u001b[0m \u001b[0mlabels\u001b[0m\u001b[0;34m)\u001b[0m \u001b[0;32min\u001b[0m \u001b[0menumerate\u001b[0m\u001b[0;34m(\u001b[0m\u001b[0mtrainloader\u001b[0m\u001b[0;34m)\u001b[0m\u001b[0;34m:\u001b[0m\u001b[0;34m\u001b[0m\u001b[0;34m\u001b[0m\u001b[0m\n\u001b[1;32m     13\u001b[0m         \u001b[0mx\u001b[0m\u001b[0;34m,\u001b[0m \u001b[0my\u001b[0m \u001b[0;34m=\u001b[0m \u001b[0mdata\u001b[0m\u001b[0;34m.\u001b[0m\u001b[0mto\u001b[0m\u001b[0;34m(\u001b[0m\u001b[0mdevice\u001b[0m\u001b[0;34m)\u001b[0m\u001b[0;34m,\u001b[0m \u001b[0mlabels\u001b[0m\u001b[0;34m.\u001b[0m\u001b[0mto\u001b[0m\u001b[0;34m(\u001b[0m\u001b[0mdevice\u001b[0m\u001b[0;34m)\u001b[0m\u001b[0;34m\u001b[0m\u001b[0;34m\u001b[0m\u001b[0m\n",
      "\u001b[0;32m<ipython-input-42-487bf8783cda>\u001b[0m in \u001b[0;36msvd\u001b[0;34m(model, k)\u001b[0m\n\u001b[1;32m      5\u001b[0m             \u001b[0mprint\u001b[0m\u001b[0;34m(\u001b[0m\u001b[0mu\u001b[0m\u001b[0;34m.\u001b[0m\u001b[0mshape\u001b[0m\u001b[0;34m,\u001b[0m \u001b[0ms\u001b[0m\u001b[0;34m.\u001b[0m\u001b[0mshape\u001b[0m\u001b[0;34m,\u001b[0m \u001b[0mv\u001b[0m\u001b[0;34m.\u001b[0m\u001b[0mshape\u001b[0m\u001b[0;34m)\u001b[0m\u001b[0;34m\u001b[0m\u001b[0;34m\u001b[0m\u001b[0m\n\u001b[1;32m      6\u001b[0m             \u001b[0mprint\u001b[0m\u001b[0;34m(\u001b[0m\u001b[0mt\u001b[0m\u001b[0;34m.\u001b[0m\u001b[0mdiag_embed\u001b[0m\u001b[0;34m(\u001b[0m\u001b[0ms\u001b[0m\u001b[0;34m)\u001b[0m\u001b[0;34m.\u001b[0m\u001b[0mshape\u001b[0m\u001b[0;34m)\u001b[0m\u001b[0;34m\u001b[0m\u001b[0;34m\u001b[0m\u001b[0m\n\u001b[0;32m----> 7\u001b[0;31m             \u001b[0mprint\u001b[0m\u001b[0;34m(\u001b[0m\u001b[0mu\u001b[0m\u001b[0;34m.\u001b[0m\u001b[0mmm\u001b[0m\u001b[0;34m(\u001b[0m\u001b[0ms\u001b[0m\u001b[0;34m)\u001b[0m\u001b[0;34m.\u001b[0m\u001b[0mmm\u001b[0m\u001b[0;34m(\u001b[0m\u001b[0mv\u001b[0m\u001b[0;34m.\u001b[0m\u001b[0mT\u001b[0m\u001b[0;34m)\u001b[0m\u001b[0;34m.\u001b[0m\u001b[0mshape\u001b[0m\u001b[0;34m)\u001b[0m\u001b[0;34m\u001b[0m\u001b[0;34m\u001b[0m\u001b[0m\n\u001b[0m",
      "\u001b[0;31mRuntimeError\u001b[0m: 2D tensors expected, got 4D, 3D tensors at /pytorch/aten/src/THC/generic/THCTensorMathBlas.cu:282"
     ]
    }
   ],
   "source": [
    "k = 1\n",
    "model = resnet.resnet18(num_channels=1, num_classes=output_size).to(device)\n",
    "# weights_init(model, 'low_rank')\n",
    "\n",
    "xa_train, ya_train = [], []\n",
    "xa_test, ya_test =[], []\n",
    "print('epoch \\t val_loss \\t val_acc \\t train_acc')\n",
    "for _ in tqdm(range(1, epochs+1), leave=False):\n",
    "    xa_train.append(_)\n",
    "    correcti = 0\n",
    "    svd(model, k)\n",
    "    for idx, (data, labels) in enumerate(trainloader):\n",
    "        x, y = data.to(device), labels.to(device)\n",
    "        optimizer = t.optim.SGD(model.parameters(), lr=lr)\n",
    "        optimizer.zero_grad()\n",
    "        y_hat = model(x)\n",
    "        loss_val = loss(y_hat, y)\n",
    "        loss_val.backward()\n",
    "        optimizer.step()\n",
    "        predi = y_hat.argmax(1, keepdim=True)\n",
    "        correcti += predi.eq(y.view_as(predi)).sum().item()\n",
    "    ya_train.append(correcti/len(trainloader.dataset))\n",
    "    \n",
    "    correcti = 0\n",
    "    for idx, (data, labels) in enumerate(testloader):\n",
    "        x, y = data.to(device), labels.to(device)\n",
    "        y_hat = model(x)\n",
    "        loss_val = loss(y_hat, y)\n",
    "        predi = y_hat.argmax(1, keepdim=True)\n",
    "        correcti += predi.eq(y.view_as(predi)).sum().item()\n",
    "    ya_test.append(correcti/len(testloader.dataset))\n",
    "    print('{} \\t {:.4f} \\t {:.2f} \\t {:.2f}'.format(\n",
    "        xa_train[-1], loss_val.item(), ya_test[-1], ya_train[-1],\n",
    "    ))"
   ]
  },
  {
   "cell_type": "markdown",
   "metadata": {},
   "source": [
    "# gradient approximation using all directions"
   ]
  },
  {
   "cell_type": "code",
   "execution_count": null,
   "metadata": {},
   "outputs": [],
   "source": [
    "model = resnet.resnet18(num_channels=1, num_classes=output_size).to(device)\n",
    "model.load_state_dict(t.load('../ckpts/init/{}_resnet18.init'.format(dataset)))\n",
    "\n",
    "xa_train, ya_train = [], []\n",
    "xa_test, ya_test = [], []\n",
    "for _ in tqdm(range(1, epochs+1), leave=False):\n",
    "    start = time.time()\n",
    "    xa_train.append(_)\n",
    "    xa_test.append(_)\n",
    "    correcti = 0\n",
    "    for idx, (data, labels) in enumerate(trainloader):\n",
    "        x, y = data.to(device), labels.to(device)\n",
    "        optimizer = t.optim.SGD(model.parameters(), lr=lr)\n",
    "        optimizer.zero_grad()\n",
    "        y_hat = model(x)\n",
    "        loss_val = loss(y_hat, y)\n",
    "        loss_val.backward()\n",
    "        _, error = gradient_approximation(model, sdirs, device, [])\n",
    "        optimizer.step()\n",
    "        predi = y_hat.argmax(1, keepdim=True)\n",
    "        correcti += predi.eq(y.view_as(predi)).sum().item()\n",
    "    ya_train.append(correcti/len(trainloader.dataset))\n",
    "    \n",
    "    correcti = 0\n",
    "    for idx, (data, labels) in enumerate(testloader):\n",
    "        x, y = data.to(device), labels.to(device)\n",
    "        y_hat = model(x)\n",
    "        loss_val = loss(y_hat, y)\n",
    "        predi = y_hat.argmax(1, keepdim=True)\n",
    "        correcti += predi.eq(y.view_as(predi)).sum().item()\n",
    "    ya_test.append(correcti/len(testloader.dataset))\n",
    "    print('{} \\t {:.4f} \\t {:.2f} \\t {:.2f}'.format(\n",
    "        xa_train[-1], loss_val.item(), ya_train[-1], ya_test[-1]\n",
    "    ))"
   ]
  },
  {
   "cell_type": "markdown",
   "metadata": {},
   "source": [
    "# gradient approximation using n directions"
   ]
  },
  {
   "cell_type": "code",
   "execution_count": null,
   "metadata": {},
   "outputs": [],
   "source": [
    "n = 1\n",
    "model = resnet.resnet18(num_channels=1, num_classes=output_size).to(device)\n",
    "model.load_state_dict(t.load('../ckpts/init/{}_resnet18.init'.format(dataset)))\n",
    "\n",
    "xe_train, ye_train = [], []\n",
    "xe_test, ye_test = [], []\n",
    "for _ in tqdm(range(1, epochs+1), leave=False):\n",
    "    start = time.time()\n",
    "    xe_train.append(_)\n",
    "    xe_test.append(_)\n",
    "    correcti = 0\n",
    "    for idx, (data, labels) in enumerate(trainloader):\n",
    "        x, y = data.to(device), labels.to(device)\n",
    "        optimizer = t.optim.SGD(model.parameters(), lr=lr)\n",
    "        optimizer.zero_grad()\n",
    "        y_hat = model(x)\n",
    "        loss_val = loss(y_hat, y)\n",
    "        loss_val.backward()\n",
    "        _, error = gradient_approximation(\n",
    "            model, \n",
    "            [sdirs[_] for _ in np.random.randint(0, len(sdirs), size=(n,))], device, [])\n",
    "        optimizer.step()\n",
    "        predi = y_hat.argmax(1, keepdim=True)\n",
    "        correcti += predi.eq(y.view_as(predi)).sum().item()\n",
    "    ye_train.append(correcti/len(trainloader.dataset))\n",
    "    \n",
    "    correcti = 0\n",
    "    for idx, (data, labels) in enumerate(testloader):\n",
    "        x, y = data.to(device), labels.to(device)\n",
    "        y_hat = model(x)\n",
    "        loss_val = loss(y_hat, y)\n",
    "        predi = y_hat.argmax(1, keepdim=True)\n",
    "        correcti += predi.eq(y.view_as(predi)).sum().item()\n",
    "    ye_test.append(correcti/len(testloader.dataset))\n",
    "    print('{} \\t {:.4f} \\t {:.2f} \\t {:.2f}'.format(\n",
    "        xe_train[-1], loss_val.item(), ye_train[-1], ye_test[-1]\n",
    "    ))"
   ]
  },
  {
   "cell_type": "code",
   "execution_count": null,
   "metadata": {},
   "outputs": [],
   "source": [
    "n = 10\n",
    "model = resnet.resnet18(num_channels=1, num_classes=output_size).to(device)\n",
    "model.load_state_dict(t.load('../ckpts/init/{}_resnet18.init'.format(dataset)))\n",
    "\n",
    "xc_train, yc_train = [], []\n",
    "xc_test, yc_test = [], []\n",
    "for _ in tqdm(range(1, epochs+1), leave=False):\n",
    "    start = time.time()\n",
    "    xc_train.append(_)\n",
    "    xc_test.append(_)\n",
    "    correcti = 0\n",
    "    for idx, (data, labels) in enumerate(trainloader):\n",
    "        x, y = data.to(device), labels.to(device)\n",
    "        optimizer = t.optim.SGD(model.parameters(), lr=lr)\n",
    "        optimizer.zero_grad()\n",
    "        y_hat = model(x)\n",
    "        loss_val = loss(y_hat, y)\n",
    "        loss_val.backward()\n",
    "        _, error = gradient_approximation(\n",
    "            model, \n",
    "            [sdirs[_] for _ in np.random.randint(0, len(sdirs), size=(n,))], device, [])\n",
    "        optimizer.step()\n",
    "        predi = y_hat.argmax(1, keepdim=True)\n",
    "        correcti += predi.eq(y.view_as(predi)).sum().item()\n",
    "    yc_train.append(correcti/len(trainloader.dataset))\n",
    "    \n",
    "    correcti = 0\n",
    "    for idx, (data, labels) in enumerate(testloader):\n",
    "        x, y = data.to(device), labels.to(device)\n",
    "        y_hat = model(x)\n",
    "        loss_val = loss(y_hat, y)\n",
    "        predi = y_hat.argmax(1, keepdim=True)\n",
    "        correcti += predi.eq(y.view_as(predi)).sum().item()\n",
    "    yc_test.append(correcti/len(testloader.dataset))\n",
    "    print('{} \\t {:.4f} \\t {:.2f} \\t {:.2f}'.format(\n",
    "        xc_train[-1], loss_val.item(), yc_train[-1], yc_test[-1]\n",
    "    ))"
   ]
  },
  {
   "cell_type": "code",
   "execution_count": null,
   "metadata": {},
   "outputs": [],
   "source": [
    "n = 100\n",
    "model = resnet.resnet18(num_channels=1, num_classes=output_size).to(device)\n",
    "model.load_state_dict(t.load('../ckpts/init/{}_resnet18.init'.format(dataset)))\n",
    "\n",
    "xd_train, yd_train = [], []\n",
    "xd_test, yd_test = [], []\n",
    "for _ in tqdm(range(1, epochs+1), leave=False):\n",
    "    start = time.time()\n",
    "    xd_train.append(_)\n",
    "    xd_test.append(_)\n",
    "    correcti = 0\n",
    "    for idx, (data, labels) in enumerate(trainloader):\n",
    "        x, y = data.to(device), labels.to(device)\n",
    "        optimizer = t.optim.SGD(model.parameters(), lr=lr)\n",
    "        optimizer.zero_grad()\n",
    "        y_hat = model(x)\n",
    "        loss_val = loss(y_hat, y)\n",
    "        loss_val.backward()\n",
    "        _, error = gradient_approximation(\n",
    "            model, \n",
    "            [sdirs[_] for _ in np.random.randint(0, len(sdirs), size=(n,))], device, [])\n",
    "        optimizer.step()\n",
    "        predi = y_hat.argmax(1, keepdim=True)\n",
    "        correcti += predi.eq(y.view_as(predi)).sum().item()\n",
    "    yd_train.append(correcti/len(trainloader.dataset))\n",
    "    \n",
    "    correcti = 0\n",
    "    for idx, (data, labels) in enumerate(testloader):\n",
    "        x, y = data.to(device), labels.to(device)\n",
    "        y_hat = model(x)\n",
    "        loss_val = loss(y_hat, y)\n",
    "        predi = y_hat.argmax(1, keepdim=True)\n",
    "        correcti += predi.eq(y.view_as(predi)).sum().item()\n",
    "    yd_test.append(correcti/len(testloader.dataset))\n",
    "    print('{} \\t {:.4f} \\t {:.2f} \\t {:.2f}'.format(\n",
    "        xd_train[-1], loss_val.item(), yd_train[-1], yd_test[-1]\n",
    "    ))"
   ]
  },
  {
   "cell_type": "code",
   "execution_count": null,
   "metadata": {},
   "outputs": [],
   "source": [
    "plt.figure()\n",
    "plt.plot([x_test]+xb_train, [y_test]+yb_test, label='SGD', c='r')\n",
    "# plt.plot([x_test]+xa_train, [y_test]+ya_test, label='SGD {}-approx.'.format(len(sdirs)), c='b')\n",
    "plt.plot([x_test]+xc_train, [y_test]+yc_test, label='SGD 10-approx.', c='g')\n",
    "plt.plot([x_test]+xd_train, [y_test]+yd_test, label='SGD 100-approx.', c='k')\n",
    "plt.plot([x_test]+xe_train, [y_test]+ye_test, label='SGD 1-approx.', c='c')\n",
    "\n",
    "history = {\n",
    "    'test': [x_test, y_test],\n",
    "#     'a': [xa_train, ya_train, xa_test, ya_test],\n",
    "    'b': [xb_train, yb_train, xb_test, yb_test],\n",
    "    'c': [xc_train, yc_train, xc_test, yc_test],\n",
    "    'd': [xd_train, yd_train, xd_test, yd_test],\n",
    "    'e': [xe_train, ye_train, xe_test, ye_test],\n",
    "}\n",
    "\n",
    "name = 'clf_{}_{}_algo_{}_bs_{}_sgd_vs_sgd_approx_random_proj_sampling'.format(\n",
    "    'resnet18', dataset, sdirs_algo, bs)\n",
    "print(name)\n",
    "\n",
    "pkl.dump(history, open('../ckpts/history/{}.pkl'.format(name), 'wb'))\n",
    "\n",
    "plt.xlabel('epochs')\n",
    "plt.ylabel('accuracy')\n",
    "plt.legend()\n",
    "plt.savefig(\n",
    "    '../ckpts/plots/{}.png'.format(name), \n",
    "    dpi=300, bbox_inches='tight'\n",
    ")"
   ]
  },
  {
   "cell_type": "markdown",
   "metadata": {},
   "source": [
    "# Comparisons"
   ]
  },
  {
   "cell_type": "code",
   "execution_count": null,
   "metadata": {},
   "outputs": [],
   "source": [
    "name = 'clf_{}_{}_algo_{}_bs_{}_sgd_vs_sgd_approx_random_proj_sampling'.format(\n",
    "    'resnet18', dataset, sdirs_algo, bs)\n",
    "\n",
    "history = pkl.load(open('../ckpts/history/{}.pkl'.format(name), 'rb'))\n",
    "h = pkl.load(open('../ckpts/history/{}.pkl'.format(name.replace('proj', 'grad')), 'rb'))\n",
    "\n",
    "plt.figure()\n",
    "plt.plot([history['test'][0]]+history['b'][0], [history['test'][1]]+history['b'][-1],\n",
    "         label='SGD', c='r')\n",
    "plt.plot([history['test'][0]]+history['d'][0], [history['test'][1]]+history['d'][-1], \n",
    "         label='SGD 100-random.', c='k', linestyle='--')\n",
    "plt.plot([h['test'][0]]+h['d'][0], [h['test'][1]]+h['d'][-1], label='SGD 100-grad.', c='k')\n",
    "plt.plot([history['test'][0]]+history['c'][0], [history['test'][1]]+history['c'][-1], \n",
    "         label='SGD 10-random.', c='g', linestyle='--')\n",
    "plt.plot([h['test'][0]]+h['c'][0], [h['test'][1]]+h['c'][-1], label='SGD 10-grad.', c='g')\n",
    "plt.plot([history['test'][0]]+history['e'][0], [history['test'][1]]+history['e'][-1], \n",
    "         label='SGD 1-random.', c='c', linestyle='--')\n",
    "plt.plot([h['test'][0]]+h['e'][0], [h['test'][1]]+h['e'][-1], label='SGD 1-grad.', c='c')\n",
    "\n",
    "plt.xlabel('epochs')\n",
    "plt.ylabel('accuracy')\n",
    "plt.legend()\n",
    "cname = 'clf_{}_{}_algo_{}_bs_{}_sgd_vs_sgd_approx_comparison'.format(\n",
    "    'resnet18', dataset, sdirs_algo, bs)\n",
    "print(cname)\n",
    "plt.savefig(\n",
    "    '../ckpts/plots/{}.png'.format(cname), \n",
    "    dpi=300, bbox_inches='tight'\n",
    ")"
   ]
  },
  {
   "cell_type": "code",
   "execution_count": null,
   "metadata": {},
   "outputs": [],
   "source": []
  }
 ],
 "metadata": {
  "kernelspec": {
   "display_name": "Python 3",
   "language": "python",
   "name": "python3"
  },
  "language_info": {
   "codemirror_mode": {
    "name": "ipython",
    "version": 3
   },
   "file_extension": ".py",
   "mimetype": "text/x-python",
   "name": "python",
   "nbconvert_exporter": "python",
   "pygments_lexer": "ipython3",
   "version": "3.7.6"
  }
 },
 "nbformat": 4,
 "nbformat_minor": 4
}
