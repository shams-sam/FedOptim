{
 "cells": [
  {
   "cell_type": "code",
   "execution_count": 23,
   "metadata": {},
   "outputs": [],
   "source": [
    "import sys\n",
    "sys.path.append('../src')\n",
    "\n",
    "import matplotlib.pyplot as plt\n",
    "import pickle as pkl\n",
    "import torch as t\n",
    "\n",
    "from fcn import FCN\n",
    "from utils import accumulate_grads_over_epochs , weights_reset"
   ]
  },
  {
   "cell_type": "code",
   "execution_count": null,
   "metadata": {},
   "outputs": [],
   "source": [
    "f = FCN(5, 1)\n",
    "for param in f.parameters():\n",
    "    print(param)\n",
    "\n",
    "weights_reset(f, [[1, 3], [0]])"
   ]
  },
  {
   "cell_type": "code",
   "execution_count": null,
   "metadata": {},
   "outputs": [],
   "source": [
    "for param in f.parameters():\n",
    "    print(param)"
   ]
  },
  {
   "cell_type": "code",
   "execution_count": 39,
   "metadata": {},
   "outputs": [
    {
     "name": "stdout",
     "output_type": "stream",
     "text": [
      "torch.Size([7840, 101]) torch.Size([10, 101])\n",
      "0.8628233671188354\n",
      "0.6535676717758179\n",
      "torch.Size([1, 7840]) torch.Size([1, 10])\n",
      "Saving: ../ckpts/mnist_centralized/data/grad_pca_paradigm_sgd_batch_128_components_1.pkl\n",
      "torch.Size([7840, 101]) torch.Size([10, 101])\n",
      "0.9662916837260127\n",
      "0.9481319785118103\n",
      "torch.Size([5, 7840]) torch.Size([5, 10])\n",
      "Saving: ../ckpts/mnist_centralized/data/grad_pca_paradigm_sgd_batch_128_components_5.pkl\n",
      "torch.Size([7840, 101]) torch.Size([10, 101])\n",
      "0.9999999229426066\n",
      "1.0000000605359705\n",
      "torch.Size([101, 7840]) torch.Size([10, 10])\n",
      "Saving: ../ckpts/mnist_centralized/data/grad_pca_paradigm_sgd_batch_128_components_101.pkl\n",
      "torch.Size([7840, 101]) torch.Size([10, 101])\n",
      "0.9558389186859131\n",
      "0.5722149014472961\n",
      "torch.Size([1, 7840]) torch.Size([1, 10])\n",
      "Saving: ../ckpts/mnist_centralized/data/grad_pca_paradigm_sgd_batch_0_components_1.pkl\n",
      "torch.Size([7840, 101]) torch.Size([10, 101])\n",
      "0.9999844329649932\n",
      "0.9999303127988242\n",
      "torch.Size([5, 7840]) torch.Size([5, 10])\n",
      "Saving: ../ckpts/mnist_centralized/data/grad_pca_paradigm_sgd_batch_0_components_5.pkl\n",
      "torch.Size([7840, 101]) torch.Size([10, 101])\n",
      "0.9999999858501262\n",
      "0.9999999289653099\n",
      "torch.Size([101, 7840]) torch.Size([10, 10])\n",
      "Saving: ../ckpts/mnist_centralized/data/grad_pca_paradigm_sgd_batch_0_components_101.pkl\n",
      "torch.Size([7840, 101]) torch.Size([10, 101])\n",
      "0.08749791234731674\n",
      "0.2848590910434723\n",
      "torch.Size([1, 7840]) torch.Size([1, 10])\n",
      "Saving: ../ckpts/mnist_centralized/data/grad_pca_paradigm_adam_batch_128_components_1.pkl\n",
      "torch.Size([7840, 101]) torch.Size([10, 101])\n",
      "0.2241940926760435\n",
      "0.8233962804079056\n",
      "torch.Size([5, 7840]) torch.Size([5, 10])\n",
      "Saving: ../ckpts/mnist_centralized/data/grad_pca_paradigm_adam_batch_128_components_5.pkl\n",
      "torch.Size([7840, 101]) torch.Size([10, 101])\n",
      "1.000000049782102\n",
      "1.0000000372529045\n",
      "torch.Size([101, 7840]) torch.Size([10, 10])\n",
      "Saving: ../ckpts/mnist_centralized/data/grad_pca_paradigm_adam_batch_128_components_101.pkl\n",
      "torch.Size([7840, 101]) torch.Size([10, 101])\n",
      "0.515287458896637\n",
      "0.6268476843833923\n",
      "torch.Size([1, 7840]) torch.Size([1, 10])\n",
      "Saving: ../ckpts/mnist_centralized/data/grad_pca_paradigm_adam_batch_0_components_1.pkl\n",
      "torch.Size([7840, 101]) torch.Size([10, 101])\n",
      "0.9616606067866087\n",
      "0.9911319259554148\n",
      "torch.Size([5, 7840]) torch.Size([5, 10])\n",
      "Saving: ../ckpts/mnist_centralized/data/grad_pca_paradigm_adam_batch_0_components_5.pkl\n",
      "torch.Size([7840, 101]) torch.Size([10, 101])\n",
      "1.0000000298468554\n",
      "1.000000045838538\n",
      "torch.Size([101, 7840]) torch.Size([10, 10])\n",
      "Saving: ../ckpts/mnist_centralized/data/grad_pca_paradigm_adam_batch_0_components_101.pkl\n"
     ]
    }
   ],
   "source": [
    "paradigms = ['sgd', 'adam']\n",
    "batches = [128, 0]\n",
    "device = t.device(\"cuda:{}\".format(2))\n",
    "components = [1, 5, 101]\n",
    "\n",
    "for paradigm in paradigms:\n",
    "    for batch in batches:\n",
    "        for c in components:\n",
    "            file = '../ckpts/mnist_centralized/history/clf_fcn_noise_None' \\\n",
    "                '_paradigm_{}_lr_0.01_decay_1e-05_batch_{}.pkl'.format(paradigm, batch)\n",
    "            x_ax, acc_train, acc_test, l_train, l_test, grad = pkl.load(open(file, 'rb'))        \n",
    "            grad = accumulate_grads_over_epochs(grad, device)\n",
    "            grad0 = t.stack([_[0].flatten() for _ in grad], dim=0).T\n",
    "            grad1 = t.stack([_[1].flatten() for _ in grad], dim=0).T\n",
    "            print(grad0.size(), grad1.size())\n",
    "\n",
    "            if c==101:\n",
    "                pca = PCA()\n",
    "            else:\n",
    "                pca = PCA(n_components=c)\n",
    "            grad0 = pca.fit_transform(grad0.cpu().numpy())\n",
    "            print(sum(pca.explained_variance_ratio_[:c]))\n",
    "            grad1 = pca.fit_transform(grad1.cpu().numpy())\n",
    "            print(sum(pca.explained_variance_ratio_[:c]))\n",
    "            grad0 = t.Tensor(grad0).T.to(device)\n",
    "            grad1 = t.Tensor(grad1).T.to(device)\n",
    "            print(grad0.size(), grad1.size())\n",
    "            file = '../ckpts/mnist_centralized/data/grad'\\\n",
    "                '_pca_paradigm_{}_batch_{}_components_{}.pkl'.format(\n",
    "                paradigm, batch, c)\n",
    "            print('Saving: {}'.format(file))\n",
    "            pkl.dump((grad0, grad1), open(file, 'wb'))"
   ]
  },
  {
   "cell_type": "code",
   "execution_count": null,
   "metadata": {},
   "outputs": [],
   "source": []
  }
 ],
 "metadata": {
  "kernelspec": {
   "display_name": "Python 3",
   "language": "python",
   "name": "python3"
  },
  "language_info": {
   "codemirror_mode": {
    "name": "ipython",
    "version": 3
   },
   "file_extension": ".py",
   "mimetype": "text/x-python",
   "name": "python",
   "nbconvert_exporter": "python",
   "pygments_lexer": "ipython3",
   "version": "3.7.6"
  }
 },
 "nbformat": 4,
 "nbformat_minor": 4
}
