{
 "cells": [
  {
   "cell_type": "code",
   "execution_count": 1,
   "metadata": {},
   "outputs": [],
   "source": [
    "import matplotlib.pyplot as plt\n",
    "import numpy as np\n",
    "import pickle as pkl\n",
    "from scipy.linalg import orth\n",
    "from sklearn.metrics.pairwise import cosine_similarity as cosine\n",
    "from sklearn.preprocessing import normalize\n",
    "import seaborn as sns\n",
    "from sklearn.decomposition import PCA\n",
    "from terminaltables import AsciiTable as Table\n",
    "from tqdm import tqdm_notebook as tqdm"
   ]
  },
  {
   "cell_type": "code",
   "execution_count": 23,
   "metadata": {},
   "outputs": [],
   "source": [
    "def estimate_optimal_ncomponents(mat):\n",
    "    pca = PCA()\n",
    "    pca.fit(mat)\n",
    "    opt = []\n",
    "    total_var = 0\n",
    "    nc = 0\n",
    "    for var in pca.explained_variance_ratio_:\n",
    "        total_var += var\n",
    "        nc += 1\n",
    "        if total_var >= 0.99:\n",
    "            opt.append(nc)\n",
    "            break\n",
    "        elif total_var >= 0.95:\n",
    "            opt.append(nc)\n",
    "    return opt[0], opt[-1], len(pca.explained_variance_ratio_)\n",
    "\n",
    "def pca_transform(mat):\n",
    "    _, n, _ = estimate_optimal_ncomponents(mat)\n",
    "    pca = PCA(n_components=n)\n",
    "    return pca, pca.fit_transform(mat)\n",
    "\n",
    "def cosine_sim(u, v):\n",
    "    return 1-cosine(u, v)"
   ]
  },
  {
   "cell_type": "markdown",
   "metadata": {},
   "source": [
    "# Train"
   ]
  },
  {
   "cell_type": "code",
   "execution_count": 3,
   "metadata": {},
   "outputs": [],
   "source": [
    "import sys\n",
    "sys.path.append('../src')"
   ]
  },
  {
   "cell_type": "code",
   "execution_count": 5,
   "metadata": {},
   "outputs": [],
   "source": [
    "from common.utils import Struct\n",
    "from data.loader import get_loader\n",
    "from models.model_op import get_model_grads\n",
    "from models.utils import get_model\n",
    "import torch"
   ]
  },
  {
   "cell_type": "code",
   "execution_count": 42,
   "metadata": {},
   "outputs": [],
   "source": [
    "args = {\n",
    "    'input_size': 784,\n",
    "    'output_size': 10,\n",
    "    'clf': 'mlp',\n",
    "    'no_cuda': False,\n",
    "    'seed': 0,\n",
    "    'device_id': [1],\n",
    "    'lr': 1e-1, \n",
    "    'epochs': 50,\n",
    "}\n",
    "args = Struct(**args)"
   ]
  },
  {
   "cell_type": "code",
   "execution_count": 43,
   "metadata": {},
   "outputs": [
    {
     "name": "stdout",
     "output_type": "stream",
     "text": [
      "Initializing MLP...\n",
      "# params: 1634530\n",
      "# layers: 2.0\n",
      "Loss: nll\n",
      "[num_grads:   1, NLL: 2.3170]\n",
      "[num_grads:   2, NLL: 1.8858]\n",
      "[num_grads:   3, NLL: 1.5683]\n",
      "[num_grads:   4, NLL: 1.3393]\n",
      "[num_grads:   5, NLL: 1.1714]\n",
      "[num_grads:   6, NLL: 1.0492]\n",
      "[num_grads:   7, NLL: 0.9586]\n",
      "[num_grads:   8, NLL: 0.8948]\n",
      "[num_grads:   9, NLL: 0.8417]\n",
      "[num_grads:  10, NLL: 0.8080]\n",
      "[num_grads:  11, NLL: 0.7600]\n",
      "[num_grads:  12, NLL: 0.7345]\n",
      "[num_grads:  13, NLL: 0.6912]\n",
      "[num_grads:  14, NLL: 0.6705]\n",
      "[num_grads:  15, NLL: 0.6399]\n",
      "[num_grads:  16, NLL: 0.6262]\n",
      "[num_grads:  17, NLL: 0.6047]\n",
      "[num_grads:  18, NLL: 0.5977]\n",
      "[num_grads:  19, NLL: 0.5748]\n",
      "[num_grads:  20, NLL: 0.5691]\n",
      "[num_grads:  21, NLL: 0.5431]\n",
      "[num_grads:  22, NLL: 0.5359]\n",
      "[num_grads:  23, NLL: 0.5130]\n",
      "[num_grads:  24, NLL: 0.5050]\n",
      "[num_grads:  25, NLL: 0.4870]\n",
      "[num_grads:  26, NLL: 0.4788]\n",
      "[num_grads:  27, NLL: 0.4650]\n",
      "[num_grads:  28, NLL: 0.4571]\n",
      "[num_grads:  29, NLL: 0.4465]\n",
      "[num_grads:  30, NLL: 0.4394]\n",
      "[num_grads:  31, NLL: 0.4312]\n",
      "[num_grads:  32, NLL: 0.4249]\n",
      "[num_grads:  33, NLL: 0.4184]\n",
      "[num_grads:  34, NLL: 0.4130]\n",
      "[num_grads:  35, NLL: 0.4077]\n",
      "[num_grads:  36, NLL: 0.4030]\n",
      "[num_grads:  37, NLL: 0.3985]\n",
      "[num_grads:  38, NLL: 0.3944]\n",
      "[num_grads:  39, NLL: 0.3905]\n",
      "[num_grads:  40, NLL: 0.3869]\n",
      "[num_grads:  41, NLL: 0.3834]\n",
      "[num_grads:  42, NLL: 0.3801]\n",
      "[num_grads:  43, NLL: 0.3769]\n",
      "[num_grads:  44, NLL: 0.3739]\n",
      "[num_grads:  45, NLL: 0.3710]\n",
      "[num_grads:  46, NLL: 0.3682]\n",
      "[num_grads:  47, NLL: 0.3655]\n",
      "[num_grads:  48, NLL: 0.3629]\n",
      "[num_grads:  49, NLL: 0.3604]\n",
      "[num_grads:  50, NLL: 0.3580]\n"
     ]
    }
   ],
   "source": [
    "device = torch.device('cuda:1')\n",
    "trainloader = get_loader('mnist', 60000, True)\n",
    "model, _ = get_model(args)\n",
    "\n",
    "\n",
    "optim = torch.optim.SGD(model.parameters(), lr=args.lr)\n",
    "loss_fn = torch.nn.CrossEntropyLoss().to(device)\n",
    "\n",
    "grads = []\n",
    "for epoch in range(args.epochs):\n",
    "    for i, data in enumerate(trainloader):\n",
    "        X, Y = data[0].to(device), data[1].to(device)\n",
    "        Y_ = model(X)\n",
    "        loss = loss_fn(Y_, Y)\n",
    "        optim.zero_grad()\n",
    "        loss.backward()\n",
    "        grads.append(get_model_grads(model))\n",
    "        optim.step()\n",
    "        print('[num_grads: {:3d}, NLL: {:.4f}]'.format(len(grads), loss.item()))"
   ]
  },
  {
   "cell_type": "code",
   "execution_count": 11,
   "metadata": {},
   "outputs": [
    {
     "data": {
      "text/plain": [
       "DataParallel(\n",
       "  (module): MLP(\n",
       "    (fc1): Linear(in_features=784, out_features=2056, bias=True)\n",
       "    (fc2): Linear(in_features=2056, out_features=10, bias=True)\n",
       "    (relu): ReLU()\n",
       "  )\n",
       ")"
      ]
     },
     "execution_count": 11,
     "metadata": {},
     "output_type": "execute_result"
    }
   ],
   "source": [
    "model"
   ]
  },
  {
   "cell_type": "code",
   "execution_count": 19,
   "metadata": {},
   "outputs": [
    {
     "data": {
      "text/plain": [
       "[6, 5, 5, 3]"
      ]
     },
     "execution_count": 19,
     "metadata": {},
     "output_type": "execute_result"
    }
   ],
   "source": [
    "components"
   ]
  },
  {
   "cell_type": "code",
   "execution_count": 44,
   "metadata": {},
   "outputs": [
    {
     "name": "stdout",
     "output_type": "stream",
     "text": [
      "torch.Size([2056, 784])\n",
      "torch.Size([2056])\n",
      "torch.Size([10, 2056])\n",
      "torch.Size([10])\n"
     ]
    }
   ],
   "source": [
    "for p in model.parameters():\n",
    "    print(p.shape)"
   ]
  },
  {
   "cell_type": "code",
   "execution_count": 29,
   "metadata": {},
   "outputs": [
    {
     "data": {
      "text/plain": [
       "{'n_components': 6,\n",
       " 'copy': True,\n",
       " 'whiten': False,\n",
       " 'svd_solver': 'auto',\n",
       " 'tol': 0.0,\n",
       " 'iterated_power': 'auto',\n",
       " 'random_state': None,\n",
       " '_fit_svd_solver': 'randomized',\n",
       " 'mean_': array([ 6.1629621e-06, -5.4816883e-06,  8.4274870e-06,  4.5467923e-06,\n",
       "         9.7993307e-06,  7.5522676e-06,  1.2678918e-05,  8.8913621e-06,\n",
       "         1.4578783e-05,  9.0876301e-06,  1.3390457e-05,  8.3558934e-06,\n",
       "         1.1577880e-05,  7.3758874e-06,  9.7134052e-06,  6.8814475e-06,\n",
       "         8.5116917e-06,  6.8539116e-06,  7.8379035e-06,  6.9396406e-06,\n",
       "         7.4171535e-06,  7.0169690e-06,  7.1319228e-06,  7.0329647e-06,\n",
       "         6.9314187e-06,  6.9910379e-06,  6.7722294e-06,  6.8997506e-06,\n",
       "         6.6211896e-06,  6.7557307e-06,  6.4708202e-06,  6.5809472e-06,\n",
       "         6.3137709e-06,  6.3970733e-06,  6.1595092e-06,  6.2062663e-06,\n",
       "         6.0076227e-06,  6.0246502e-06,  5.8643495e-06,  5.8544588e-06,\n",
       "         5.7198995e-06,  5.6921672e-06,  5.5790233e-06,  5.5404103e-06,\n",
       "         5.4480333e-06,  5.4080519e-06,  5.3248827e-06,  5.2803803e-06,\n",
       "         5.2108599e-06,  5.1656921e-06], dtype=float32),\n",
       " 'n_samples_': 1611904,\n",
       " 'n_features_': 50,\n",
       " 'components_': array([[-4.05356735e-01, -3.03190947e-01, -3.41798127e-01,\n",
       "         -2.13702008e-01, -2.86035091e-01, -1.23712257e-01,\n",
       "         -2.63283551e-01, -4.84441221e-02, -2.56349623e-01,\n",
       "         -9.23217041e-04, -2.49547854e-01,  3.82613353e-02,\n",
       "         -2.46241152e-01,  6.46437705e-02, -2.33807012e-01,\n",
       "          6.77592233e-02, -2.07900688e-01,  5.63445948e-02,\n",
       "         -1.77558482e-01,  4.15832438e-02, -1.49054557e-01,\n",
       "          2.72541158e-02, -1.24118410e-01,  1.46489767e-02,\n",
       "         -1.03015050e-01,  4.22642427e-03, -8.55206028e-02,\n",
       "         -4.03164234e-03, -7.12527335e-02, -1.03011290e-02,\n",
       "         -5.97458854e-02, -1.48672434e-02, -5.05497679e-02,\n",
       "         -1.80278998e-02, -4.32381332e-02, -2.00715773e-02,\n",
       "         -3.74646671e-02, -2.12187637e-02, -3.29279602e-02,\n",
       "         -2.17082314e-02, -2.93435566e-02, -2.17092521e-02,\n",
       "         -2.65170634e-02, -2.13705748e-02, -2.42513064e-02,\n",
       "         -2.07950529e-02, -2.24106293e-02, -2.00963169e-02,\n",
       "         -2.08817963e-02, -1.93018559e-02],\n",
       "        [-1.96854696e-01, -2.65329331e-01, -1.41570374e-01,\n",
       "         -2.38350898e-01, -6.13563173e-02, -2.45546639e-01,\n",
       "          2.66781822e-02, -2.73318589e-01,  9.87264961e-02,\n",
       "         -2.84240127e-01,  1.42568797e-01, -2.98117071e-01,\n",
       "          1.77706704e-01, -3.01957697e-01,  1.88149005e-01,\n",
       "         -2.77881086e-01,  1.68229148e-01, -2.37820074e-01,\n",
       "          1.36273444e-01, -1.97310761e-01,  1.04899272e-01,\n",
       "         -1.61031649e-01,  7.75063783e-02, -1.30036712e-01,\n",
       "          5.48229329e-02, -1.04361072e-01,  3.66507135e-02,\n",
       "         -8.35026056e-02,  2.24276334e-02, -6.68254271e-02,\n",
       "          1.15598813e-02, -5.36550358e-02,  3.41490144e-03,\n",
       "         -4.33644280e-02, -2.52104294e-03, -3.54048349e-02,\n",
       "         -6.69698371e-03, -2.93216538e-02, -9.49751399e-03,\n",
       "         -2.47042719e-02, -1.12646725e-02, -2.12030150e-02,\n",
       "         -1.22500043e-02, -1.85609385e-02, -1.26900747e-02,\n",
       "         -1.65601708e-02, -1.27616581e-02, -1.50205838e-02,\n",
       "         -1.25789978e-02, -1.38154738e-02],\n",
       "        [-3.98632735e-02,  1.09431416e-01, -1.01298817e-01,\n",
       "          1.51547864e-01, -1.78740337e-01,  2.31991008e-01,\n",
       "         -2.70316601e-01,  2.96099633e-01, -3.01841706e-01,\n",
       "          2.38538593e-01, -2.08842412e-01,  1.12350248e-01,\n",
       "         -6.87839016e-02, -3.00031956e-02,  6.00360334e-02,\n",
       "         -1.20893963e-01,  1.36149973e-01, -1.70336127e-01,\n",
       "          1.77405998e-01, -1.98423415e-01,  1.97413251e-01,\n",
       "         -2.07758233e-01,  1.98596567e-01, -2.00696275e-01,\n",
       "          1.84768036e-01, -1.81674913e-01,  1.61272123e-01,\n",
       "         -1.55848190e-01,  1.33427337e-01, -1.27785727e-01,\n",
       "          1.05382092e-01, -1.00965492e-01,  7.98413008e-02,\n",
       "         -7.72813410e-02,  5.81384562e-02, -5.76038770e-02,\n",
       "          4.06787284e-02, -4.19996195e-02,  2.72764526e-02,\n",
       "         -3.01372483e-02,  1.73204523e-02, -2.14491375e-02,\n",
       "          1.02152489e-02, -1.52598396e-02,  5.33172768e-03,\n",
       "         -1.09778950e-02,  2.06943555e-03, -8.11134651e-03,\n",
       "         -4.03636623e-05, -6.22441014e-03],\n",
       "        [-5.47264636e-01, -2.71553010e-01, -1.40983850e-01,\n",
       "          4.43369104e-03,  4.49325815e-02,  1.08726002e-01,\n",
       "          1.14530690e-01,  1.38620943e-01,  1.39308557e-01,\n",
       "          1.45535320e-01,  1.54369935e-01,  1.42800435e-01,\n",
       "          1.59824014e-01,  1.37726039e-01,  1.58728406e-01,\n",
       "          1.35435551e-01,  1.54589236e-01,  1.33478969e-01,\n",
       "          1.48706108e-01,  1.29873723e-01,  1.41907960e-01,\n",
       "          1.25130549e-01,  1.34913847e-01,  1.19925261e-01,\n",
       "          1.28031999e-01,  1.14762686e-01,  1.21423274e-01,\n",
       "          1.09854616e-01,  1.15201488e-01,  1.05355725e-01,\n",
       "          1.09412849e-01,  1.01197690e-01,  1.04096353e-01,\n",
       "          9.73732919e-02,  9.92133096e-02,  9.38012302e-02,\n",
       "          9.47551876e-02,  9.04453471e-02,  9.07244310e-02,\n",
       "          8.72676000e-02,  8.70331824e-02,  8.42576101e-02,\n",
       "          8.36754143e-02,  8.13952610e-02,  8.05615932e-02,\n",
       "          7.86535144e-02,  7.76855126e-02,  7.60481432e-02,\n",
       "          7.50069395e-02,  7.35743567e-02],\n",
       "        [ 4.46856946e-01, -4.85483676e-01,  2.40541101e-01,\n",
       "         -4.74712908e-01,  1.23243883e-01, -2.31844470e-01,\n",
       "         -3.68320160e-02,  3.76822846e-03, -1.29263550e-01,\n",
       "          1.28424466e-01, -1.32821515e-01,  1.64826229e-01,\n",
       "         -7.84126148e-02,  1.45616859e-01, -9.69814882e-03,\n",
       "          9.26085562e-02,  3.91584374e-02,  4.16276716e-02,\n",
       "          7.44312555e-02,  5.97475981e-03,  9.67031792e-02,\n",
       "         -1.44546917e-02,  1.05748922e-01, -2.19885297e-02,\n",
       "          1.04975693e-01, -2.03970764e-02,  9.80215967e-02,\n",
       "         -1.35094915e-02,  8.85628089e-02, -4.33721161e-03,\n",
       "          7.85392001e-02,  5.11631696e-03,  6.92831576e-02,\n",
       "          1.34335607e-02,  6.15403168e-02,  2.04652976e-02,\n",
       "          5.52407205e-02,  2.59651169e-02,  5.03662787e-02,\n",
       "          2.99756750e-02,  4.66383696e-02,  3.28653045e-02,\n",
       "          4.39310558e-02,  3.48175392e-02,  4.19254303e-02,\n",
       "          3.59843224e-02,  4.04860564e-02,  3.67286988e-02,\n",
       "          3.94476317e-02,  3.70445587e-02],\n",
       "        [ 3.09280127e-01,  3.23955566e-01, -3.28835964e-01,\n",
       "         -3.39857265e-02, -3.88597667e-01, -1.53418317e-01,\n",
       "         -2.37076193e-01, -1.87690824e-01, -9.91839841e-02,\n",
       "         -1.65384471e-01, -2.06299443e-02, -1.10095255e-01,\n",
       "          2.69396547e-02, -4.05562408e-02,  5.38060963e-02,\n",
       "          1.91710442e-02,  6.19494468e-02,  6.07029609e-02,\n",
       "          5.96789196e-02,  9.02655870e-02,  5.66789396e-02,\n",
       "          1.10380784e-01,  5.63750044e-02,  1.22368068e-01,\n",
       "          5.95129766e-02,  1.28054827e-01,  6.55194521e-02,\n",
       "          1.29578516e-01,  7.30190948e-02,  1.28742337e-01,\n",
       "          8.10672268e-02,  1.26730561e-01,  8.87486860e-02,\n",
       "          1.24613546e-01,  9.55773741e-02,  1.22612819e-01,\n",
       "          1.01255730e-01,  1.20903760e-01,  1.05756842e-01,\n",
       "          1.19665220e-01,  1.09173223e-01,  1.18664816e-01,\n",
       "          1.11639157e-01,  1.17931768e-01,  1.13306895e-01,\n",
       "          1.17367245e-01,  1.14374593e-01,  1.16832726e-01,\n",
       "          1.14924662e-01,  1.16392225e-01]], dtype=float32),\n",
       " 'n_components_': 6,\n",
       " 'explained_variance_': array([4.12595222e-06, 4.02304327e-06, 8.06886605e-07, 5.53264858e-07,\n",
       "        1.34973513e-07, 8.43258276e-08]),\n",
       " 'explained_variance_ratio_': array([0.42105148, 0.41054967, 0.0823424 , 0.05646042, 0.01377398,\n",
       "        0.00860541]),\n",
       " 'singular_values_': array([2.5788825 , 2.5465183 , 1.1404486 , 0.94435656, 0.4664378 ,\n",
       "        0.36868015], dtype=float32),\n",
       " 'noise_variance_': 1.6072048060832881e-09}"
      ]
     },
     "execution_count": 29,
     "metadata": {},
     "output_type": "execute_result"
    }
   ],
   "source": [
    "pcas[0].__dict__"
   ]
  },
  {
   "cell_type": "code",
   "execution_count": 48,
   "metadata": {},
   "outputs": [
    {
     "name": "stderr",
     "output_type": "stream",
     "text": [
      "/root/anaconda3/lib/python3.7/site-packages/ipykernel_launcher.py:6: TqdmDeprecationWarning: This function will be removed in tqdm==5.0.0\n",
      "Please use `tqdm.notebook.tqdm` instead of `tqdm.tqdm_notebook`\n",
      "  \n"
     ]
    },
    {
     "data": {
      "application/vnd.jupyter.widget-view+json": {
       "model_id": "",
       "version_major": 2,
       "version_minor": 0
      },
      "text/plain": [
       "HBox(children=(FloatProgress(value=0.0, max=4.0), HTML(value='')))"
      ]
     },
     "metadata": {},
     "output_type": "display_data"
    },
    {
     "name": "stdout",
     "output_type": "stream",
     "text": [
      "(1611904, 50) (1611904, 6) 6\n",
      "(2056, 50) (2056, 5) 5\n",
      "(20560, 50) (20560, 5) 5\n",
      "(10, 50) (10, 4) 4\n",
      "\r"
     ]
    },
    {
     "data": {
      "image/png": "[encoded data removed]",
      "text/plain": [
       "<Figure size 432x288 with 2 Axes>"
      ]
     },
     "metadata": {
      "needs_background": "light"
     },
     "output_type": "display_data"
    }
   ],
   "source": [
    "corr_mat = np.zeros((args.epochs, args.epochs))\n",
    "num_layers = 0\n",
    "components = []\n",
    "pcas = []\n",
    "ws = []\n",
    "for layer_num in tqdm(range(len(grads[0])), leave=False):\n",
    "    num_layers += 1\n",
    "    accum = []\n",
    "    for epoch_num in range(len(grads)):\n",
    "        g = grads[epoch_num][layer_num]\n",
    "        shape = g.shape\n",
    "        accum.append(g.reshape(1, -1).cpu().numpy())\n",
    "    stack_g = np.vstack(accum).T\n",
    "    pca, pca_g = pca_transform(stack_g)\n",
    "    components.append(pca_g.shape[1])\n",
    "    pcas.append(pca)\n",
    "    ws.append(pca_g)\n",
    "    print(stack_g.shape, pca_g.shape, components[-1])\n",
    "    pca_g = normalize(pca_g, axis=0)\n",
    "#         stack_g, _ = np.linalg.qr(stack_g)\n",
    "    stack_g = normalize(stack_g, axis=0)\n",
    "    corr = np.matmul(pca_g.T, stack_g)\n",
    "    corr_mat[:corr.shape[0], :corr.shape[1]] += corr \n",
    "sns.heatmap(corr_mat[:sum(components)//len(components)]/num_layers, center=0.0, square=True)\n",
    "plt.show()"
   ]
  },
  {
   "cell_type": "code",
   "execution_count": 50,
   "metadata": {},
   "outputs": [
    {
     "name": "stdout",
     "output_type": "stream",
     "text": [
      "(1611904,)\n",
      "(2056,)\n",
      "(20560,)\n",
      "(10,)\n"
     ]
    }
   ],
   "source": [
    "for idx, w in enumerate(ws):\n",
    "    ws[idx] = w[:, 0]\n",
    "    print(ws[idx].shape)"
   ]
  },
  {
   "cell_type": "code",
   "execution_count": 52,
   "metadata": {},
   "outputs": [],
   "source": [
    "with torch.no_grad():\n",
    "    for p, w in zip(model.parameters(), ws):\n",
    "        p.copy_(p-args.lr*torch.Tensor(w).reshape(p.size()).to(device))"
   ]
  },
  {
   "cell_type": "code",
   "execution_count": 53,
   "metadata": {},
   "outputs": [
    {
     "name": "stdout",
     "output_type": "stream",
     "text": [
      "[num_grads:   1, NLL: 1.5720]\n",
      "[num_grads:   2, NLL: 0.7157]\n",
      "[num_grads:   3, NLL: 0.4135]\n",
      "[num_grads:   4, NLL: 0.3706]\n",
      "[num_grads:   5, NLL: 0.3644]\n",
      "[num_grads:   6, NLL: 0.3609]\n",
      "[num_grads:   7, NLL: 0.3577]\n",
      "[num_grads:   8, NLL: 0.3548]\n",
      "[num_grads:   9, NLL: 0.3520]\n",
      "[num_grads:  10, NLL: 0.3494]\n",
      "[num_grads:  11, NLL: 0.3469]\n",
      "[num_grads:  12, NLL: 0.3444]\n",
      "[num_grads:  13, NLL: 0.3421]\n",
      "[num_grads:  14, NLL: 0.3398]\n",
      "[num_grads:  15, NLL: 0.3377]\n",
      "[num_grads:  16, NLL: 0.3356]\n",
      "[num_grads:  17, NLL: 0.3336]\n",
      "[num_grads:  18, NLL: 0.3316]\n",
      "[num_grads:  19, NLL: 0.3297]\n",
      "[num_grads:  20, NLL: 0.3278]\n",
      "[num_grads:  21, NLL: 0.3260]\n",
      "[num_grads:  22, NLL: 0.3243]\n",
      "[num_grads:  23, NLL: 0.3226]\n",
      "[num_grads:  24, NLL: 0.3209]\n",
      "[num_grads:  25, NLL: 0.3193]\n",
      "[num_grads:  26, NLL: 0.3178]\n",
      "[num_grads:  27, NLL: 0.3162]\n",
      "[num_grads:  28, NLL: 0.3147]\n",
      "[num_grads:  29, NLL: 0.3132]\n",
      "[num_grads:  30, NLL: 0.3118]\n",
      "[num_grads:  31, NLL: 0.3104]\n",
      "[num_grads:  32, NLL: 0.3090]\n",
      "[num_grads:  33, NLL: 0.3077]\n",
      "[num_grads:  34, NLL: 0.3064]\n",
      "[num_grads:  35, NLL: 0.3051]\n",
      "[num_grads:  36, NLL: 0.3038]\n",
      "[num_grads:  37, NLL: 0.3026]\n",
      "[num_grads:  38, NLL: 0.3013]\n",
      "[num_grads:  39, NLL: 0.3001]\n",
      "[num_grads:  40, NLL: 0.2989]\n",
      "[num_grads:  41, NLL: 0.2978]\n",
      "[num_grads:  42, NLL: 0.2966]\n",
      "[num_grads:  43, NLL: 0.2955]\n",
      "[num_grads:  44, NLL: 0.2944]\n",
      "[num_grads:  45, NLL: 0.2933]\n",
      "[num_grads:  46, NLL: 0.2922]\n",
      "[num_grads:  47, NLL: 0.2912]\n",
      "[num_grads:  48, NLL: 0.2902]\n",
      "[num_grads:  49, NLL: 0.2891]\n",
      "[num_grads:  50, NLL: 0.2881]\n"
     ]
    }
   ],
   "source": [
    "device = torch.device('cuda:1')\n",
    "trainloader = get_loader('mnist', 60000, True)\n",
    "\n",
    "\n",
    "optim = torch.optim.SGD(model.parameters(), lr=args.lr)\n",
    "loss_fn = torch.nn.CrossEntropyLoss().to(device)\n",
    "\n",
    "grads = []\n",
    "for epoch in range(args.epochs):\n",
    "    for i, data in enumerate(trainloader):\n",
    "        X, Y = data[0].to(device), data[1].to(device)\n",
    "        Y_ = model(X)\n",
    "        loss = loss_fn(Y_, Y)\n",
    "        optim.zero_grad()\n",
    "        loss.backward()\n",
    "        grads.append(get_model_grads(model))\n",
    "        optim.step()\n",
    "        print('[num_grads: {:3d}, NLL: {:.4f}]'.format(len(grads), loss.item()))"
   ]
  },
  {
   "cell_type": "code",
   "execution_count": null,
   "metadata": {},
   "outputs": [],
   "source": []
  }
 ],
 "metadata": {
  "kernelspec": {
   "display_name": "Python 3",
   "language": "python",
   "name": "python3"
  },
  "language_info": {
   "codemirror_mode": {
    "name": "ipython",
    "version": 3
   },
   "file_extension": ".py",
   "mimetype": "text/x-python",
   "name": "python",
   "nbconvert_exporter": "python",
   "pygments_lexer": "ipython3",
   "version": "3.7.6"
  }
 },
 "nbformat": 4,
 "nbformat_minor": 4
}
