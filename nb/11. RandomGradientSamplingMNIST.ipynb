{
 "cells": [
  {
   "cell_type": "code",
   "execution_count": 1,
   "metadata": {},
   "outputs": [],
   "source": [
    "import sys\n",
    "sys.path.append('../src')"
   ]
  },
  {
   "cell_type": "code",
   "execution_count": 2,
   "metadata": {},
   "outputs": [],
   "source": [
    "import common.config as cfg\n",
    "from common.nb_utils import estimate_optimal_ncomponents, pca_transform\n",
    "from common.utils import get_device, Struct\n",
    "from data.loader import get_testloader, get_trainloader\n",
    "import matplotlib.pyplot as plt\n",
    "from models.fcn import FCN\n",
    "from models.resnet import resnet18\n",
    "from models.model_op import get_model_grads, gradient_approximation\n",
    "from models.svm import SVM\n",
    "import models.resnet as resnet\n",
    "import numpy as np\n",
    "import pickle as pkl\n",
    "import torch as t\n",
    "import time\n",
    "from tqdm.notebook import tqdm"
   ]
  },
  {
   "cell_type": "code",
   "execution_count": 3,
   "metadata": {},
   "outputs": [],
   "source": [
    "dataset = 'mnist'\n",
    "input_size = cfg.input_sizes[dataset]\n",
    "output_size = cfg.output_sizes[dataset]\n",
    "lr = 1e-1\n",
    "sdirs_algo = 'pca' # 'qr'\n",
    "bs = 16\n",
    "epochs = 20"
   ]
  },
  {
   "cell_type": "code",
   "execution_count": 4,
   "metadata": {},
   "outputs": [],
   "source": [
    "device = t.device('cuda:1')\n",
    "loss = t.nn.CrossEntropyLoss().to(device)"
   ]
  },
  {
   "cell_type": "code",
   "execution_count": 5,
   "metadata": {},
   "outputs": [],
   "source": [
    "trainloader = get_trainloader(dataset, bs, True)\n",
    "testloader = get_testloader(dataset, bs, True)"
   ]
  },
  {
   "cell_type": "code",
   "execution_count": 6,
   "metadata": {},
   "outputs": [
    {
     "data": {
      "application/vnd.jupyter.widget-view+json": {
       "model_id": "c9f8845f46144015a17a05a65f2fc6cf",
       "version_major": 2,
       "version_minor": 0
      },
      "text/plain": [
       "HBox(children=(FloatProgress(value=0.0, max=3750.0), HTML(value='')))"
      ]
     },
     "metadata": {},
     "output_type": "display_data"
    }
   ],
   "source": [
    "sdirs = []\n",
    "m = 6\n",
    "n_accum = m*50\n",
    "for idx, (data, labels) in tqdm(enumerate(trainloader), total=len(trainloader), leave=False):\n",
    "    x, y = data.to(device), labels.to(device)\n",
    "    model = resnet.resnet18(num_channels=1, num_classes=output_size).to(device)\n",
    "    optimizer = t.optim.SGD(model.parameters(), lr=lr)\n",
    "    optimizer.zero_grad()\n",
    "    y_hat = model(x)\n",
    "    loss_val = loss(y_hat, y)\n",
    "    loss_val.backward()\n",
    "    sdirs.append(get_model_grads(model))\n",
    "    if idx == n_accum:\n",
    "        break"
   ]
  },
  {
   "cell_type": "code",
   "execution_count": null,
   "metadata": {},
   "outputs": [],
   "source": [
    "sdirs_ = []\n",
    "for i in range(len(sdirs[0])):\n",
    "    sdirs_.append(np.hstack([_[i].reshape(-1, 1).cpu().numpy() for _ in sdirs]))\n",
    "[_.shape for _ in sdirs_]\n",
    "n0 = [_.shape[1] for _ in sdirs_]"
   ]
  },
  {
   "cell_type": "code",
   "execution_count": null,
   "metadata": {},
   "outputs": [],
   "source": [
    "n = [estimate_optimal_ncomponents(_, 0.99)[0] for _ in sdirs_]"
   ]
  },
  {
   "cell_type": "code",
   "execution_count": null,
   "metadata": {},
   "outputs": [],
   "source": [
    "plt.figure(figsize=(10, 2))\n",
    "plt.bar(range(len(n0)), [_/m for _ in n0], color='r')\n",
    "plt.bar(range(len(n)), [_/m for _ in n], color='k', alpha=0.6)\n",
    "plt.title('grads: {}, bs: {}, dataset: {}'.format(n_accum, bs, dataset))\n",
    "name = '../ckpts/nb/grads_{}_bs_{}_dataset_{}.png'.format(\n",
    "    n_accum, bs, dataset\n",
    ")\n",
    "print(name)\n",
    "plt.savefig(name, bbox_inches='tight', dpi=330)"
   ]
  },
  {
   "cell_type": "markdown",
   "metadata": {},
   "source": [
    "# BS: 32 MNIST\n",
    "![](../ckpts/nb/grads_300_bs_16_dataset_mnist.png)\n",
    "![](../ckpts/nb/grads_200_bs_16_dataset_mnist.png)\n",
    "![](../ckpts/nb/grads_100_bs_16_dataset_mnist.png)\n",
    "![](../ckpts/nb/grads_50_bs_16_dataset_mnist.png)"
   ]
  },
  {
   "cell_type": "markdown",
   "metadata": {},
   "source": [
    "# BS: 128 MNIST\n",
    "![](../ckpts/nb/grads_300_bs_128_dataset_mnist.png)\n",
    "![](../ckpts/nb/grads_200_bs_128_dataset_mnist.png)\n",
    "![](../ckpts/nb/grads_100_bs_128_dataset_mnist.png)\n",
    "![](../ckpts/nb/grads_50_bs_128_dataset_mnist.png)"
   ]
  },
  {
   "cell_type": "code",
   "execution_count": null,
   "metadata": {},
   "outputs": [],
   "source": [
    "if sdirs_algo=='pca':\n",
    "    sdirs0, _ = pca_transform(sdirs0, n0)\n",
    "#     sdirs1, _ = pca_transform(sdirs1, n1)\n",
    "else:\n",
    "    sdirs0, _ = np.linalg.qr(sdirs0)\n",
    "#     sdirs1, _ = np.linalg.qr(sdirs1)\n",
    "sdirs0.shape, sdirs1.shape"
   ]
  },
  {
   "cell_type": "code",
   "execution_count": null,
   "metadata": {},
   "outputs": [],
   "source": [
    "sdirs = [[t.Tensor(sdirs0[:, _].reshape(output_size, input_size)), t.Tensor(sdirs1[:,_].reshape(output_size,))] for _ in range(sdirs0.shape[1])]"
   ]
  },
  {
   "cell_type": "markdown",
   "metadata": {},
   "source": [
    "# pretraining"
   ]
  },
  {
   "cell_type": "code",
   "execution_count": 7,
   "metadata": {},
   "outputs": [],
   "source": [
    "trainloader = get_trainloader(dataset, 256, False)\n",
    "testloader = get_testloader(dataset, 256, False)"
   ]
  },
  {
   "cell_type": "code",
   "execution_count": 8,
   "metadata": {},
   "outputs": [
    {
     "data": {
      "text/plain": [
       "(0, 0.1046)"
      ]
     },
     "execution_count": 8,
     "metadata": {},
     "output_type": "execute_result"
    }
   ],
   "source": [
    "model = resnet.resnet18(num_channels=1, num_classes=output_size).to(device)\n",
    "model.load_state_dict(t.load('../ckpts/init/{}_resnet18.init'.format(dataset)))\n",
    "\n",
    "correcti = 0\n",
    "x_test = 0\n",
    "for idx, (data, labels) in enumerate(testloader):\n",
    "    x, y = data.to(device), labels.to(device)\n",
    "    y_hat = model(x)\n",
    "    loss_val = loss(y_hat, y)\n",
    "    predi = y_hat.argmax(1, keepdim=True)\n",
    "    correcti += predi.eq(y.view_as(predi)).sum().item()\n",
    "y_test = correcti/len(testloader.dataset)\n",
    "x_test, y_test"
   ]
  },
  {
   "cell_type": "markdown",
   "metadata": {},
   "source": [
    "# w/o gradient approximation"
   ]
  },
  {
   "cell_type": "code",
   "execution_count": 9,
   "metadata": {},
   "outputs": [
    {
     "data": {
      "application/vnd.jupyter.widget-view+json": {
       "model_id": "",
       "version_major": 2,
       "version_minor": 0
      },
      "text/plain": [
       "HBox(children=(FloatProgress(value=0.0, max=20.0), HTML(value='')))"
      ]
     },
     "metadata": {},
     "output_type": "display_data"
    },
    {
     "name": "stdout",
     "output_type": "stream",
     "text": [
      "1 \t 0.0002 \t 0.95 \t 0.98\n",
      "2 \t 0.0002 \t 0.99 \t 0.99\n",
      "3 \t 0.0001 \t 1.00 \t 0.99\n",
      "4 \t 0.0000 \t 1.00 \t 0.99\n",
      "5 \t 0.0000 \t 1.00 \t 0.99\n",
      "6 \t 0.0000 \t 1.00 \t 0.99\n",
      "7 \t 0.0000 \t 1.00 \t 0.99\n",
      "8 \t 0.0000 \t 1.00 \t 0.99\n",
      "9 \t 0.0000 \t 1.00 \t 0.99\n",
      "10 \t 0.0000 \t 1.00 \t 0.99\n",
      "11 \t 0.0000 \t 1.00 \t 0.99\n",
      "12 \t 0.0000 \t 1.00 \t 0.99\n",
      "13 \t 0.0000 \t 1.00 \t 0.99\n",
      "14 \t 0.0000 \t 1.00 \t 0.99\n",
      "15 \t 0.0000 \t 1.00 \t 0.99\n",
      "16 \t 0.0000 \t 1.00 \t 0.99\n",
      "17 \t 0.0000 \t 1.00 \t 0.99\n",
      "18 \t 0.0000 \t 1.00 \t 0.99\n",
      "19 \t 0.0000 \t 1.00 \t 0.99\n",
      "20 \t 0.0000 \t 1.00 \t 0.99\n"
     ]
    }
   ],
   "source": [
    "model = resnet.resnet18(num_channels=1, num_classes=output_size).to(device)\n",
    "model.load_state_dict(t.load('../ckpts/init/{}_resnet18.init'.format(dataset)))\n",
    "\n",
    "xb_train, yb_train = [], []\n",
    "xb_test, yb_test =[], []\n",
    "for _ in tqdm(range(1, epochs+1), leave=False):\n",
    "    xb_train.append(_)\n",
    "    correcti = 0\n",
    "    for idx, (data, labels) in enumerate(trainloader):\n",
    "        x, y = data.to(device), labels.to(device)\n",
    "        optimizer = t.optim.SGD(model.parameters(), lr=lr)\n",
    "        optimizer.zero_grad()\n",
    "        y_hat = model(x)\n",
    "        loss_val = loss(y_hat, y)\n",
    "        loss_val.backward()\n",
    "        optimizer.step()\n",
    "        predi = y_hat.argmax(1, keepdim=True)\n",
    "        correcti += predi.eq(y.view_as(predi)).sum().item()\n",
    "    yb_train.append(correcti/len(trainloader.dataset))\n",
    "    \n",
    "    correcti = 0\n",
    "    for idx, (data, labels) in enumerate(testloader):\n",
    "        x, y = data.to(device), labels.to(device)\n",
    "        y_hat = model(x)\n",
    "        loss_val = loss(y_hat, y)\n",
    "        predi = y_hat.argmax(1, keepdim=True)\n",
    "        correcti += predi.eq(y.view_as(predi)).sum().item()\n",
    "    yb_test.append(correcti/len(testloader.dataset))\n",
    "    print('{} \\t {:.4f} \\t {:.2f} \\t {:.2f}'.format(\n",
    "        xb_train[-1], loss_val.item(), yb_train[-1], yb_test[-1]\n",
    "    ))"
   ]
  },
  {
   "cell_type": "markdown",
   "metadata": {},
   "source": [
    "# gradient approximation using all directions"
   ]
  },
  {
   "cell_type": "code",
   "execution_count": null,
   "metadata": {},
   "outputs": [
    {
     "data": {
      "application/vnd.jupyter.widget-view+json": {
       "model_id": "149f58415bff42ba9b23b517a14bd18e",
       "version_major": 2,
       "version_minor": 0
      },
      "text/plain": [
       "HBox(children=(FloatProgress(value=0.0, max=20.0), HTML(value='')))"
      ]
     },
     "metadata": {},
     "output_type": "display_data"
    }
   ],
   "source": [
    "model = resnet.resnet18(num_channels=1, num_classes=output_size).to(device)\n",
    "model.load_state_dict(t.load('../ckpts/init/{}_resnet18.init'.format(dataset)))\n",
    "\n",
    "xa_train, ya_train = [], []\n",
    "xa_test, ya_test = [], []\n",
    "for _ in tqdm(range(1, epochs+1), leave=False):\n",
    "    start = time.time()\n",
    "    xa_train.append(_)\n",
    "    xa_test.append(_)\n",
    "    correcti = 0\n",
    "    for idx, (data, labels) in enumerate(trainloader):\n",
    "        x, y = data.to(device), labels.to(device)\n",
    "        optimizer = t.optim.SGD(model.parameters(), lr=lr)\n",
    "        optimizer.zero_grad()\n",
    "        y_hat = model(x)\n",
    "        loss_val = loss(y_hat, y)\n",
    "        loss_val.backward()\n",
    "        _, error = gradient_approximation(model, sdirs, device, [])\n",
    "        optimizer.step()\n",
    "        predi = y_hat.argmax(1, keepdim=True)\n",
    "        correcti += predi.eq(y.view_as(predi)).sum().item()\n",
    "    ya_train.append(correcti/len(trainloader.dataset))\n",
    "    \n",
    "    correcti = 0\n",
    "    for idx, (data, labels) in enumerate(testloader):\n",
    "        x, y = data.to(device), labels.to(device)\n",
    "        y_hat = model(x)\n",
    "        loss_val = loss(y_hat, y)\n",
    "        predi = y_hat.argmax(1, keepdim=True)\n",
    "        correcti += predi.eq(y.view_as(predi)).sum().item()\n",
    "    ya_test.append(correcti/len(testloader.dataset))\n",
    "    print('{} \\t {:.4f} \\t {:.2f} \\t {:.2f}'.format(\n",
    "        xa_train[-1], loss_val.item(), ya_train[-1], ya_test[-1]\n",
    "    ))"
   ]
  },
  {
   "cell_type": "markdown",
   "metadata": {},
   "source": [
    "# gradient approximation using n directions"
   ]
  },
  {
   "cell_type": "code",
   "execution_count": 10,
   "metadata": {},
   "outputs": [
    {
     "data": {
      "application/vnd.jupyter.widget-view+json": {
       "model_id": "",
       "version_major": 2,
       "version_minor": 0
      },
      "text/plain": [
       "HBox(children=(FloatProgress(value=0.0, max=20.0), HTML(value='')))"
      ]
     },
     "metadata": {},
     "output_type": "display_data"
    },
    {
     "name": "stdout",
     "output_type": "stream",
     "text": [
      "1 \t 2.5131 \t 0.13 \t 0.13\n",
      "2 \t 2.3030 \t 0.16 \t 0.15\n",
      "3 \t 2.2889 \t 0.19 \t 0.19\n",
      "4 \t 2.0671 \t 0.23 \t 0.23\n",
      "5 \t 1.8783 \t 0.26 \t 0.26\n",
      "6 \t 1.5959 \t 0.29 \t 0.32\n",
      "7 \t 1.6604 \t 0.33 \t 0.33\n",
      "8 \t 1.3168 \t 0.35 \t 0.36\n",
      "9 \t 1.6746 \t 0.36 \t 0.37\n",
      "10 \t 1.7229 \t 0.39 \t 0.40\n",
      "11 \t 1.7209 \t 0.41 \t 0.42\n",
      "12 \t 1.3538 \t 0.42 \t 0.45\n",
      "13 \t 1.4626 \t 0.44 \t 0.45\n",
      "14 \t 0.8445 \t 0.46 \t 0.48\n",
      "15 \t 1.3905 \t 0.47 \t 0.49\n",
      "16 \t 1.1864 \t 0.50 \t 0.52\n",
      "17 \t 0.7132 \t 0.52 \t 0.53\n",
      "18 \t 1.1436 \t 0.52 \t 0.52\n",
      "19 \t 1.0870 \t 0.54 \t 0.54\n",
      "20 \t 1.5908 \t 0.54 \t 0.55\n"
     ]
    }
   ],
   "source": [
    "n = 1\n",
    "model = resnet.resnet18(num_channels=1, num_classes=output_size).to(device)\n",
    "model.load_state_dict(t.load('../ckpts/init/{}_resnet18.init'.format(dataset)))\n",
    "\n",
    "xe_train, ye_train = [], []\n",
    "xe_test, ye_test = [], []\n",
    "for _ in tqdm(range(1, epochs+1), leave=False):\n",
    "    start = time.time()\n",
    "    xe_train.append(_)\n",
    "    xe_test.append(_)\n",
    "    correcti = 0\n",
    "    for idx, (data, labels) in enumerate(trainloader):\n",
    "        x, y = data.to(device), labels.to(device)\n",
    "        optimizer = t.optim.SGD(model.parameters(), lr=lr)\n",
    "        optimizer.zero_grad()\n",
    "        y_hat = model(x)\n",
    "        loss_val = loss(y_hat, y)\n",
    "        loss_val.backward()\n",
    "        _, error = gradient_approximation(\n",
    "            model, \n",
    "            [sdirs[idx]], device, [])\n",
    "        optimizer.step()\n",
    "        predi = y_hat.argmax(1, keepdim=True)\n",
    "        correcti += predi.eq(y.view_as(predi)).sum().item()\n",
    "    ye_train.append(correcti/len(trainloader.dataset))\n",
    "    \n",
    "    correcti = 0\n",
    "    for idx, (data, labels) in enumerate(testloader):\n",
    "        x, y = data.to(device), labels.to(device)\n",
    "        y_hat = model(x)\n",
    "        loss_val = loss(y_hat, y)\n",
    "        predi = y_hat.argmax(1, keepdim=True)\n",
    "        correcti += predi.eq(y.view_as(predi)).sum().item()\n",
    "    ye_test.append(correcti/len(testloader.dataset))\n",
    "    print('{} \\t {:.4f} \\t {:.2f} \\t {:.2f}'.format(\n",
    "        xe_train[-1], loss_val.item(), ye_train[-1], ye_test[-1]\n",
    "    ))"
   ]
  },
  {
   "cell_type": "code",
   "execution_count": 11,
   "metadata": {},
   "outputs": [
    {
     "data": {
      "application/vnd.jupyter.widget-view+json": {
       "model_id": "",
       "version_major": 2,
       "version_minor": 0
      },
      "text/plain": [
       "HBox(children=(FloatProgress(value=0.0, max=20.0), HTML(value='')))"
      ]
     },
     "metadata": {},
     "output_type": "display_data"
    },
    {
     "name": "stdout",
     "output_type": "stream",
     "text": [
      "1 \t 2.2950 \t 0.17 \t 0.32\n",
      "2 \t 1.9856 \t 0.33 \t 0.33\n",
      "3 \t 1.5854 \t 0.51 \t 0.43\n",
      "4 \t 0.4543 \t 0.64 \t 0.70\n",
      "5 \t 0.5155 \t 0.71 \t 0.76\n",
      "6 \t 0.7209 \t 0.76 \t 0.76\n",
      "7 \t 0.4639 \t 0.78 \t 0.77\n",
      "8 \t 0.7979 \t 0.80 \t 0.81\n",
      "9 \t 0.6760 \t 0.81 \t 0.82\n",
      "10 \t 0.4692 \t 0.82 \t 0.83\n",
      "11 \t 0.4171 \t 0.84 \t 0.84\n",
      "12 \t 0.4464 \t 0.84 \t 0.84\n",
      "13 \t 0.2587 \t 0.85 \t 0.85\n",
      "14 \t 0.4854 \t 0.86 \t 0.86\n",
      "15 \t 0.3056 \t 0.86 \t 0.86\n",
      "16 \t 0.2146 \t 0.86 \t 0.86\n",
      "17 \t 0.2547 \t 0.87 \t 0.85\n",
      "18 \t 0.1713 \t 0.87 \t 0.87\n",
      "19 \t 0.1330 \t 0.87 \t 0.87\n",
      "20 \t 0.1434 \t 0.87 \t 0.88\n"
     ]
    }
   ],
   "source": [
    "n = 10\n",
    "model = resnet.resnet18(num_channels=1, num_classes=output_size).to(device)\n",
    "model.load_state_dict(t.load('../ckpts/init/{}_resnet18.init'.format(dataset)))\n",
    "\n",
    "xc_train, yc_train = [], []\n",
    "xc_test, yc_test = [], []\n",
    "for _ in tqdm(range(1, epochs+1), leave=False):\n",
    "    start = time.time()\n",
    "    xc_train.append(_)\n",
    "    xc_test.append(_)\n",
    "    correcti = 0\n",
    "    for idx, (data, labels) in enumerate(trainloader):\n",
    "        x, y = data.to(device), labels.to(device)\n",
    "        optimizer = t.optim.SGD(model.parameters(), lr=lr)\n",
    "        optimizer.zero_grad()\n",
    "        y_hat = model(x)\n",
    "        loss_val = loss(y_hat, y)\n",
    "        loss_val.backward()\n",
    "        _, error = gradient_approximation(\n",
    "            model, \n",
    "            sdirs[idx: idx+n] , device, [])\n",
    "        optimizer.step()\n",
    "        predi = y_hat.argmax(1, keepdim=True)\n",
    "        correcti += predi.eq(y.view_as(predi)).sum().item()\n",
    "    yc_train.append(correcti/len(trainloader.dataset))\n",
    "    \n",
    "    correcti = 0\n",
    "    for idx, (data, labels) in enumerate(testloader):\n",
    "        x, y = data.to(device), labels.to(device)\n",
    "        y_hat = model(x)\n",
    "        loss_val = loss(y_hat, y)\n",
    "        predi = y_hat.argmax(1, keepdim=True)\n",
    "        correcti += predi.eq(y.view_as(predi)).sum().item()\n",
    "    yc_test.append(correcti/len(testloader.dataset))\n",
    "    print('{} \\t {:.4f} \\t {:.2f} \\t {:.2f}'.format(\n",
    "        xc_train[-1], loss_val.item(), yc_train[-1], yc_test[-1]\n",
    "    ))"
   ]
  },
  {
   "cell_type": "code",
   "execution_count": 12,
   "metadata": {},
   "outputs": [
    {
     "data": {
      "application/vnd.jupyter.widget-view+json": {
       "model_id": "",
       "version_major": 2,
       "version_minor": 0
      },
      "text/plain": [
       "HBox(children=(FloatProgress(value=0.0, max=20.0), HTML(value='')))"
      ]
     },
     "metadata": {},
     "output_type": "display_data"
    },
    {
     "name": "stdout",
     "output_type": "stream",
     "text": [
      "1 \t 1.4333 \t 0.23 \t 0.52\n",
      "2 \t 0.6550 \t 0.55 \t 0.76\n",
      "3 \t 0.2416 \t 0.75 \t 0.86\n",
      "4 \t 0.1677 \t 0.85 \t 0.89\n",
      "5 \t 0.0789 \t 0.90 \t 0.91\n",
      "6 \t 0.0632 \t 0.92 \t 0.92\n",
      "7 \t 0.0313 \t 0.93 \t 0.93\n",
      "8 \t 0.0240 \t 0.94 \t 0.94\n",
      "9 \t 0.0192 \t 0.94 \t 0.95\n",
      "10 \t 0.0146 \t 0.95 \t 0.95\n",
      "11 \t 0.0186 \t 0.95 \t 0.95\n",
      "12 \t 0.0147 \t 0.95 \t 0.95\n",
      "13 \t 0.0145 \t 0.96 \t 0.95\n",
      "14 \t 0.0127 \t 0.96 \t 0.96\n",
      "15 \t 0.0145 \t 0.96 \t 0.96\n",
      "16 \t 0.0104 \t 0.96 \t 0.96\n",
      "17 \t 0.0092 \t 0.96 \t 0.96\n",
      "18 \t 0.0113 \t 0.97 \t 0.96\n",
      "19 \t 0.0147 \t 0.97 \t 0.96\n",
      "20 \t 0.0118 \t 0.97 \t 0.96\n"
     ]
    }
   ],
   "source": [
    "n = 100\n",
    "model = resnet.resnet18(num_channels=1, num_classes=output_size).to(device)\n",
    "model.load_state_dict(t.load('../ckpts/init/{}_resnet18.init'.format(dataset)))\n",
    "\n",
    "xd_train, yd_train = [], []\n",
    "xd_test, yd_test = [], []\n",
    "for _ in tqdm(range(1, epochs+1), leave=False):\n",
    "    start = time.time()\n",
    "    xd_train.append(_)\n",
    "    xd_test.append(_)\n",
    "    correcti = 0\n",
    "    for idx, (data, labels) in enumerate(trainloader):\n",
    "        x, y = data.to(device), labels.to(device)\n",
    "        optimizer = t.optim.SGD(model.parameters(), lr=lr)\n",
    "        optimizer.zero_grad()\n",
    "        y_hat = model(x)\n",
    "        loss_val = loss(y_hat, y)\n",
    "        loss_val.backward()\n",
    "        _, error = gradient_approximation(\n",
    "            model, \n",
    "            sdirs[idx: idx+n], device, [])\n",
    "        optimizer.step()\n",
    "        predi = y_hat.argmax(1, keepdim=True)\n",
    "        correcti += predi.eq(y.view_as(predi)).sum().item()\n",
    "    yd_train.append(correcti/len(trainloader.dataset))\n",
    "    \n",
    "    correcti = 0\n",
    "    for idx, (data, labels) in enumerate(testloader):\n",
    "        x, y = data.to(device), labels.to(device)\n",
    "        y_hat = model(x)\n",
    "        loss_val = loss(y_hat, y)\n",
    "        predi = y_hat.argmax(1, keepdim=True)\n",
    "        correcti += predi.eq(y.view_as(predi)).sum().item()\n",
    "    yd_test.append(correcti/len(testloader.dataset))\n",
    "    print('{} \\t {:.4f} \\t {:.2f} \\t {:.2f}'.format(\n",
    "        xd_train[-1], loss_val.item(), yd_train[-1], yd_test[-1]\n",
    "    ))"
   ]
  },
  {
   "cell_type": "code",
   "execution_count": 13,
   "metadata": {},
   "outputs": [
    {
     "name": "stdout",
     "output_type": "stream",
     "text": [
      "clf_resnet18_mnist_algo_pca_bs_16_sgd_vs_sgd_approx_random_grad_sampling\n"
     ]
    },
    {
     "data": {
      "image/png": "[encoded data removed]",
      "text/plain": [
       "<Figure size 432x288 with 1 Axes>"
      ]
     },
     "metadata": {
      "needs_background": "light"
     },
     "output_type": "display_data"
    }
   ],
   "source": [
    "plt.figure()\n",
    "plt.plot([x_test]+xb_train, [y_test]+yb_test, label='SGD', c='r')\n",
    "# plt.plot([x_test]+xa_train, [y_test]+ya_test, label='SGD {}-approx.'.format(len(sdirs)), c='b')\n",
    "plt.plot([x_test]+xc_train, [y_test]+yc_test, label='SGD 10-approx.', c='g')\n",
    "plt.plot([x_test]+xd_train, [y_test]+yd_test, label='SGD 100-approx.', c='k')\n",
    "plt.plot([x_test]+xe_train, [y_test]+ye_test, label='SGD 1-approx.', c='c')\n",
    "\n",
    "history = {\n",
    "    'test': [x_test, y_test],\n",
    "#     'a': [xa_train, ya_train, xa_test, ya_test],\n",
    "    'b': [xb_train, yb_train, xb_test, yb_test],\n",
    "    'c': [xc_train, yc_train, xc_test, yc_test],\n",
    "    'd': [xd_train, yd_train, xd_test, yd_test],\n",
    "    'e': [xe_train, ye_train, xe_test, ye_test],\n",
    "}\n",
    "\n",
    "name = 'clf_{}_{}_algo_{}_bs_{}_sgd_vs_sgd_approx_random_grad_sampling'.format(\n",
    "    'resnet18', dataset, sdirs_algo, bs)\n",
    "print(name)\n",
    "\n",
    "pkl.dump(history, open('../ckpts/history/{}.pkl'.format(name), 'wb'))\n",
    "\n",
    "plt.xlabel('epochs')\n",
    "plt.ylabel('accuracy')\n",
    "plt.legend()\n",
    "plt.savefig(\n",
    "    '../ckpts/plots/{}.png'.format(name), \n",
    "    dpi=300, bbox_inches='tight'\n",
    ")"
   ]
  },
  {
   "cell_type": "code",
   "execution_count": null,
   "metadata": {},
   "outputs": [],
   "source": []
  }
 ],
 "metadata": {
  "kernelspec": {
   "display_name": "Python 3",
   "language": "python",
   "name": "python3"
  },
  "language_info": {
   "codemirror_mode": {
    "name": "ipython",
    "version": 3
   },
   "file_extension": ".py",
   "mimetype": "text/x-python",
   "name": "python",
   "nbconvert_exporter": "python",
   "pygments_lexer": "ipython3",
   "version": "3.7.6"
  }
 },
 "nbformat": 4,
 "nbformat_minor": 4
}
