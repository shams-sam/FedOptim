{
 "cells": [
  {
   "cell_type": "code",
   "execution_count": 19,
   "metadata": {},
   "outputs": [],
   "source": [
    "from collections import defaultdict\n",
    "import matplotlib.pyplot as plt\n",
    "import numpy as np\n",
    "import pickle as pkl\n",
    "from scipy.linalg import orth\n",
    "from sklearn.metrics.pairwise import cosine_similarity as cosine\n",
    "from sklearn.preprocessing import normalize\n",
    "import seaborn as sns\n",
    "from sklearn.decomposition import PCA\n",
    "from terminaltables import AsciiTable as Table\n",
    "import torch\n",
    "from tqdm.notebook import tqdm"
   ]
  },
  {
   "cell_type": "code",
   "execution_count": 11,
   "metadata": {},
   "outputs": [],
   "source": [
    "import sys\n",
    "sys.path.append('../src/')"
   ]
  },
  {
   "cell_type": "code",
   "execution_count": 37,
   "metadata": {},
   "outputs": [],
   "source": [
    "from utils import accumulate_grads_over_epochs, calc_projection"
   ]
  },
  {
   "cell_type": "code",
   "execution_count": 13,
   "metadata": {},
   "outputs": [],
   "source": [
    "def estimate_optimal_ncomponents(mat):\n",
    "    pca = PCA()\n",
    "    pca.fit(mat)\n",
    "    opt = []\n",
    "    total_var = 0\n",
    "    nc = 0\n",
    "    for var in pca.explained_variance_ratio_:\n",
    "        total_var += var\n",
    "        nc += 1\n",
    "        if total_var >= 0.99:\n",
    "            opt.append(nc)\n",
    "            break\n",
    "        elif total_var >= 0.95:\n",
    "            opt.append(nc)\n",
    "    return opt[0], opt[-1], len(pca.explained_variance_ratio_)\n",
    "\n",
    "def pca_transform(mat):\n",
    "    _, n, _ = estimate_optimal_ncomponents(mat)\n",
    "    pca = PCA(n_components=n)\n",
    "    return pca.fit_transform(mat)\n",
    "\n",
    "def cosine_sim(u, v):\n",
    "    return 1-cosine(u, v)"
   ]
  },
  {
   "cell_type": "code",
   "execution_count": 16,
   "metadata": {},
   "outputs": [],
   "source": [
    "data = ['mnist', 'fmnist']\n",
    "lrs = [1e-2, 1e-3]\n",
    "clfs = {\n",
    "    'resnet18': [1024],\n",
    "#     'fcn': [256, 1024],\n",
    "}\n",
    "\n",
    "files = {}\n",
    "for d in data:\n",
    "    for lr in lrs:\n",
    "        for clf, batches in clfs.items():\n",
    "            if clf == 'svm' and d=='cifar':\n",
    "                lr *= 1e-3\n",
    "            elif clf == 'svm':\n",
    "                    lr *= 1e-2\n",
    "            files[\n",
    "                '../ckpts/{}_centralized/history/'\n",
    "                'clf_{}_noise_None_paradigm_sgd_lr_{}_decay_'\n",
    "                '1e-05_batch_{}_distributed_sim.pkl'.format(d, clf, lr, 1024)] = '{}/{}/{}'.format(d,clf,lr)"
   ]
  },
  {
   "cell_type": "markdown",
   "metadata": {},
   "source": [
    "# Same Dataset Different Models"
   ]
  },
  {
   "cell_type": "markdown",
   "metadata": {},
   "source": [
    "```python\n",
    "grads->[\n",
    "    epoch ->[\n",
    "        minibatch->[\n",
    "            layers->[\n",
    "                tensors\n",
    "            ]\n",
    "        ]\n",
    "    ]\n",
    "]\n",
    "```"
   ]
  },
  {
   "cell_type": "code",
   "execution_count": null,
   "metadata": {},
   "outputs": [],
   "source": [
    "epochs = 11\n",
    "\n",
    "nc_95 = defaultdict(list)\n",
    "nc_90 = defaultdict(list)\n",
    "f_hash = {}\n",
    "for file, tick_name in tqdm(files.items(), leave=False):\n",
    "    _,_,acc_test,_, loss_test, grads = pkl.load(open(file, 'rb'))\n",
    "    fig = plt.figure(figsize=(15, 5))\n",
    "    ax1 = fig.add_subplot(111)\n",
    "    tick_names = []\n",
    "    ticks = []\n",
    "    print('[file:{}]'.format(tick_name))\n",
    "    table = [['expt', 'max(acc)', 'min(loss)', 'opt(0.95)', 'opt(0.99)']]\n",
    "    for ep in tqdm(range(epochs), leave=False):\n",
    "        ticks.append(ep)\n",
    "        tick_names.append('{}/{}'.format(tick_name, ep))\n",
    "        best_acc = np.max(acc_test)\n",
    "        best_loss = np.min(loss_test)\n",
    "        gradi = grads[ep]\n",
    "        tot_opt_95 = 0\n",
    "        tot_opt_99 = 0\n",
    "        tot_epochs = 0\n",
    "        for layer_num in range(len(gradi[0])):\n",
    "            accum = []\n",
    "            for b_num in range(len(gradi)):\n",
    "                g = gradi[b_num][layer_num]\n",
    "                shape = g.shape\n",
    "                accum.append(g.reshape(1, -1).cpu().numpy())\n",
    "            stack_g = np.vstack(accum)\n",
    "            o_95, o_99, o_epochs = estimate_optimal_ncomponents(stack_g.T)\n",
    "            tot_opt_95 += o_95\n",
    "            tot_opt_99 += o_99\n",
    "            tot_epochs += 1\n",
    "        table.append([tick_name, \n",
    "                      '{:.4f}'.format(best_acc), \n",
    "                      '{:.4f}'.format(best_loss),\n",
    "                      '{:.4f}'.format(tot_opt_95/tot_epochs), \n",
    "                      '{:.4f}'.format(tot_opt_99/tot_epochs)])\n",
    "        nc_95[tick_name].append(tot_opt_99/tot_epochs)\n",
    "        nc_90[tick_name].append(tot_opt_95/tot_epochs)\n",
    "        \n",
    "        idx = ep\n",
    "        plt.bar(idx-0.25, acc_test[ep]*100, width = 0.2, color='b')\n",
    "        plt.bar(idx-0.25, loss_test[ep], width=0.2, color='y')\n",
    "        plt.bar(idx, len(gradi), width=0.2, color='g')\n",
    "        plt.bar(idx+0.25, tot_opt_95/tot_epochs, width=0.2, color='r')\n",
    "        plt.bar(idx+0.25, tot_opt_99/tot_epochs, width=0.2, color='r', alpha=0.5)\n",
    "        idx += 1\n",
    "    ax1.set_xticks(ticks)\n",
    "    ax1.set_xticklabels(tick_names, rotation='vertical')\n",
    "    ax1.grid()\n",
    "    plt.show()\n",
    "    "
   ]
  },
  {
   "cell_type": "code",
   "execution_count": 105,
   "metadata": {},
   "outputs": [
    {
     "data": {
      "application/vnd.jupyter.widget-view+json": {
       "model_id": "",
       "version_major": 2,
       "version_minor": 0
      },
      "text/plain": [
       "HBox(children=(FloatProgress(value=0.0, max=4.0), HTML(value='')))"
      ]
     },
     "metadata": {},
     "output_type": "display_data"
    },
    {
     "name": "stdout",
     "output_type": "stream",
     "text": [
      "mnist/resnet18/0.01\n"
     ]
    },
    {
     "data": {
      "image/png": "[encoded data removed]",
      "text/plain": [
       "<Figure size 432x288 with 2 Axes>"
      ]
     },
     "metadata": {
      "needs_background": "light"
     },
     "output_type": "display_data"
    },
    {
     "name": "stdout",
     "output_type": "stream",
     "text": [
      "mnist/resnet18/0.001\n"
     ]
    },
    {
     "data": {
      "image/png": "[encoded data removed]",
      "text/plain": [
       "<Figure size 432x288 with 2 Axes>"
      ]
     },
     "metadata": {
      "needs_background": "light"
     },
     "output_type": "display_data"
    },
    {
     "name": "stdout",
     "output_type": "stream",
     "text": [
      "fmnist/resnet18/0.01\n"
     ]
    },
    {
     "data": {
      "image/png": "[encoded data removed]",
      "text/plain": [
       "<Figure size 432x288 with 2 Axes>"
      ]
     },
     "metadata": {
      "needs_background": "light"
     },
     "output_type": "display_data"
    },
    {
     "name": "stdout",
     "output_type": "stream",
     "text": [
      "fmnist/resnet18/0.001\n"
     ]
    },
    {
     "data": {
      "image/png": "[encoded data removed]",
      "text/plain": [
       "<Figure size 432x288 with 2 Axes>"
      ]
     },
     "metadata": {
      "needs_background": "light"
     },
     "output_type": "display_data"
    }
   ],
   "source": [
    "epochs = 11\n",
    "\n",
    "nc_95 = defaultdict(list)\n",
    "nc_90 = defaultdict(list)\n",
    "f_hash = {}\n",
    "for file, tick_name in tqdm(files.items(), leave=False):\n",
    "    print(tick_name)\n",
    "    _,_,acc_test,_, loss_test, grads = pkl.load(open(file, 'rb'))\n",
    "    grads = accumulate_grads_over_epochs(grads, torch.device('cpu'))\n",
    "    approx = []\n",
    "    for i in range(len(grads)):\n",
    "        ai = []\n",
    "        for grad in grads:\n",
    "            ai.append(gradient_approximation(grad,[grads[i]], torch.device('cpu')))\n",
    "        approx.append(np.array(ai).reshape(-1, 1))\n",
    "    sns.heatmap(np.hstack(approx))\n",
    "    plt.show()"
   ]
  },
  {
   "cell_type": "code",
   "execution_count": 21,
   "metadata": {},
   "outputs": [
    {
     "data": {
      "text/plain": [
       "11"
      ]
     },
     "execution_count": 21,
     "metadata": {},
     "output_type": "execute_result"
    }
   ],
   "source": [
    "len(grads)"
   ]
  },
  {
   "cell_type": "code",
   "execution_count": 101,
   "metadata": {},
   "outputs": [],
   "source": [
    "def gradient_approximation(true_grads, sdirs, device):\n",
    "    approx_grads = []\n",
    "    idx = 0\n",
    "    for idx, g in enumerate(true_grads):\n",
    "        true_grads[idx] = g.flatten()\n",
    "        approx_grads.append(torch.zeros(g.flatten().size()))\n",
    "        idx += 1\n",
    "    for sdir in sdirs:\n",
    "        for idx, (p, s, g) in enumerate(zip(approx_grads, sdir, true_grads)):\n",
    "            size = p.size()\n",
    "            grad_flat = p.flatten()\n",
    "            true_grad = g.clone()\n",
    "            grad_flat = grad_flat + \\\n",
    "                calc_projection(true_grad, s.flatten()) * s.flatten()\n",
    "#             true_grads[idx] = true_grad - grad_flat\n",
    "#             print(torch.norm(true_grad))\n",
    "            approx_grads[idx] = grad_flat\n",
    "    error_norm = 0\n",
    "    num_layers = 0\n",
    "    for p, g in zip(approx_grads, true_grads):\n",
    "        error_norm += torch.norm(g-p.flatten()\n",
    "                                 ).item()/torch.norm(g).item()\n",
    "        num_layers += 1\n",
    "#     print(error_norm, error_norm/num_layers)\n",
    "\n",
    "    return error_norm/num_layers"
   ]
  },
  {
   "cell_type": "code",
   "execution_count": 103,
   "metadata": {},
   "outputs": [],
   "source": [
    "num_dirs = 0\n",
    "decom_dir = [[_.clone() for _ in grads[0]]]\n",
    "for i in range(num_dirs):\n",
    "    dir_i = []\n",
    "    for layer in grads[0]:\n",
    "        dir_i.append(layer + torch.normal(mean=0.0, std=1.0/num_dirs, size=layer.size()))\n",
    "    decom_dir.append(dir_i)"
   ]
  },
  {
   "cell_type": "code",
   "execution_count": 104,
   "metadata": {},
   "outputs": [
    {
     "ename": "ZeroDivisionError",
     "evalue": "float division by zero",
     "output_type": "error",
     "traceback": [
      "\u001b[0;31m---------------------------------------------------------------------------\u001b[0m",
      "\u001b[0;31mZeroDivisionError\u001b[0m                         Traceback (most recent call last)",
      "\u001b[0;32m<ipython-input-104-209c10c6e629>\u001b[0m in \u001b[0;36m<module>\u001b[0;34m\u001b[0m\n\u001b[1;32m      1\u001b[0m \u001b[0;32mfor\u001b[0m \u001b[0mgrad\u001b[0m \u001b[0;32min\u001b[0m \u001b[0mgrads\u001b[0m\u001b[0;34m:\u001b[0m\u001b[0;34m\u001b[0m\u001b[0;34m\u001b[0m\u001b[0m\n\u001b[0;32m----> 2\u001b[0;31m     \u001b[0mprint\u001b[0m\u001b[0;34m(\u001b[0m\u001b[0mgradient_approximation\u001b[0m\u001b[0;34m(\u001b[0m\u001b[0mgrad\u001b[0m\u001b[0;34m,\u001b[0m \u001b[0mdecom_dir\u001b[0m\u001b[0;34m,\u001b[0m \u001b[0mtorch\u001b[0m\u001b[0;34m.\u001b[0m\u001b[0mdevice\u001b[0m\u001b[0;34m(\u001b[0m\u001b[0;34m'cpu'\u001b[0m\u001b[0;34m)\u001b[0m\u001b[0;34m)\u001b[0m\u001b[0;34m)\u001b[0m\u001b[0;34m\u001b[0m\u001b[0;34m\u001b[0m\u001b[0m\n\u001b[0m",
      "\u001b[0;32m<ipython-input-101-eafa57a7f38d>\u001b[0m in \u001b[0;36mgradient_approximation\u001b[0;34m(true_grads, sdirs, device)\u001b[0m\n\u001b[1;32m     20\u001b[0m     \u001b[0;32mfor\u001b[0m \u001b[0mp\u001b[0m\u001b[0;34m,\u001b[0m \u001b[0mg\u001b[0m \u001b[0;32min\u001b[0m \u001b[0mzip\u001b[0m\u001b[0;34m(\u001b[0m\u001b[0mapprox_grads\u001b[0m\u001b[0;34m,\u001b[0m \u001b[0mtrue_grads\u001b[0m\u001b[0;34m)\u001b[0m\u001b[0;34m:\u001b[0m\u001b[0;34m\u001b[0m\u001b[0;34m\u001b[0m\u001b[0m\n\u001b[1;32m     21\u001b[0m         error_norm += torch.norm(g-p.flatten()\n\u001b[0;32m---> 22\u001b[0;31m                                  ).item()/torch.norm(g).item()\n\u001b[0m\u001b[1;32m     23\u001b[0m         \u001b[0mnum_layers\u001b[0m \u001b[0;34m+=\u001b[0m \u001b[0;36m1\u001b[0m\u001b[0;34m\u001b[0m\u001b[0;34m\u001b[0m\u001b[0m\n\u001b[1;32m     24\u001b[0m \u001b[0;31m#     print(error_norm, error_norm/num_layers)\u001b[0m\u001b[0;34m\u001b[0m\u001b[0;34m\u001b[0m\u001b[0;34m\u001b[0m\u001b[0m\n",
      "\u001b[0;31mZeroDivisionError\u001b[0m: float division by zero"
     ]
    }
   ],
   "source": [
    "for grad in grads:\n",
    "    print(gradient_approximation(grad, decom_dir, torch.device('cpu')))"
   ]
  },
  {
   "cell_type": "code",
   "execution_count": 79,
   "metadata": {},
   "outputs": [],
   "source": [
    "approx = []\n",
    "for i in range(len(grads)):\n",
    "    ai = []\n",
    "    for grad in grads:\n",
    "        ai.append(gradient_approximation(grad,[grads[i]], torch.device('cpu')))\n",
    "    approx.append(np.array(ai).reshape(-1, 1))"
   ]
  },
  {
   "cell_type": "code",
   "execution_count": 80,
   "metadata": {},
   "outputs": [
    {
     "data": {
      "text/plain": [
       "(11, 1)"
      ]
     },
     "execution_count": 80,
     "metadata": {},
     "output_type": "execute_result"
    }
   ],
   "source": [
    "approx[0].shape"
   ]
  },
  {
   "cell_type": "code",
   "execution_count": 84,
   "metadata": {},
   "outputs": [
    {
     "data": {
      "text/plain": [
       "<matplotlib.axes._subplots.AxesSubplot at 0x7fb356846e50>"
      ]
     },
     "execution_count": 84,
     "metadata": {},
     "output_type": "execute_result"
    },
    {
     "data": {
      "image/png": "[encoded data removed]",
      "text/plain": [
       "<Figure size 432x288 with 2 Axes>"
      ]
     },
     "metadata": {
      "needs_background": "light"
     },
     "output_type": "display_data"
    }
   ],
   "source": [
    "sns.heatmap(np.hstack(approx))"
   ]
  },
  {
   "cell_type": "code",
   "execution_count": null,
   "metadata": {},
   "outputs": [],
   "source": []
  }
 ],
 "metadata": {
  "kernelspec": {
   "display_name": "Python 3",
   "language": "python",
   "name": "python3"
  },
  "language_info": {
   "codemirror_mode": {
    "name": "ipython",
    "version": 3
   },
   "file_extension": ".py",
   "mimetype": "text/x-python",
   "name": "python",
   "nbconvert_exporter": "python",
   "pygments_lexer": "ipython3",
   "version": "3.7.6"
  }
 },
 "nbformat": 4,
 "nbformat_minor": 4
}
