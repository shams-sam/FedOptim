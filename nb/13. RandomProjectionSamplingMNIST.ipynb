{
 "cells": [
  {
   "cell_type": "code",
   "execution_count": 1,
   "metadata": {},
   "outputs": [],
   "source": [
    "import sys\n",
    "sys.path.append('../src')"
   ]
  },
  {
   "cell_type": "code",
   "execution_count": 2,
   "metadata": {},
   "outputs": [],
   "source": [
    "import common.config as cfg\n",
    "from common.nb_utils import estimate_optimal_ncomponents, pca_transform\n",
    "from common.utils import get_device, Struct\n",
    "from data.loader import get_testloader, get_trainloader\n",
    "import matplotlib.pyplot as plt\n",
    "from models.fcn import FCN\n",
    "from models.resnet import resnet18\n",
    "from models.model_op import get_random_grads, gradient_approximation\n",
    "from models.svm import SVM\n",
    "import models.resnet as resnet\n",
    "import numpy as np\n",
    "import pickle as pkl\n",
    "import torch as t\n",
    "import time\n",
    "from tqdm.notebook import tqdm"
   ]
  },
  {
   "cell_type": "code",
   "execution_count": 3,
   "metadata": {},
   "outputs": [],
   "source": [
    "dataset = 'mnist'\n",
    "input_size = cfg.input_sizes[dataset]\n",
    "output_size = cfg.output_sizes[dataset]\n",
    "lr = 1e-1\n",
    "sdirs_algo = 'pca' # 'qr'\n",
    "bs = 16\n",
    "epochs = 20"
   ]
  },
  {
   "cell_type": "code",
   "execution_count": 4,
   "metadata": {},
   "outputs": [],
   "source": [
    "device = t.device('cuda:2')\n",
    "loss = t.nn.CrossEntropyLoss().to(device)"
   ]
  },
  {
   "cell_type": "code",
   "execution_count": 5,
   "metadata": {},
   "outputs": [],
   "source": [
    "trainloader = get_trainloader(dataset, bs, True)\n",
    "testloader = get_testloader(dataset, bs, True)"
   ]
  },
  {
   "cell_type": "code",
   "execution_count": 6,
   "metadata": {},
   "outputs": [
    {
     "data": {
      "application/vnd.jupyter.widget-view+json": {
       "model_id": "4a972d3a35f141ab87a8b06c75199d6f",
       "version_major": 2,
       "version_minor": 0
      },
      "text/plain": [
       "HBox(children=(FloatProgress(value=0.0, max=300.0), HTML(value='')))"
      ]
     },
     "metadata": {},
     "output_type": "display_data"
    },
    {
     "name": "stdout",
     "output_type": "stream",
     "text": [
      "\n"
     ]
    }
   ],
   "source": [
    "sdirs = []\n",
    "m = 6\n",
    "n_accum = m*50\n",
    "for idx in tqdm(range(n_accum)):\n",
    "    model = resnet.resnet18(num_channels=1, num_classes=output_size).to(device)\n",
    "    sdirs.append(get_random_grads(model, np.sqrt(n_accum), device))"
   ]
  },
  {
   "cell_type": "markdown",
   "metadata": {},
   "source": [
    "# pretraining"
   ]
  },
  {
   "cell_type": "code",
   "execution_count": 7,
   "metadata": {},
   "outputs": [],
   "source": [
    "trainloader = get_trainloader(dataset, 256, False)\n",
    "testloader = get_testloader(dataset, 256, False)"
   ]
  },
  {
   "cell_type": "code",
   "execution_count": 8,
   "metadata": {},
   "outputs": [
    {
     "data": {
      "text/plain": [
       "(0, 0.1046)"
      ]
     },
     "execution_count": 8,
     "metadata": {},
     "output_type": "execute_result"
    }
   ],
   "source": [
    "model = resnet.resnet18(num_channels=1, num_classes=output_size).to(device)\n",
    "model.load_state_dict(t.load('../ckpts/init/{}_resnet18.init'.format(dataset)))\n",
    "\n",
    "correcti = 0\n",
    "x_test = 0\n",
    "for idx, (data, labels) in enumerate(testloader):\n",
    "    x, y = data.to(device), labels.to(device)\n",
    "    y_hat = model(x)\n",
    "    loss_val = loss(y_hat, y)\n",
    "    predi = y_hat.argmax(1, keepdim=True)\n",
    "    correcti += predi.eq(y.view_as(predi)).sum().item()\n",
    "y_test = correcti/len(testloader.dataset)\n",
    "x_test, y_test"
   ]
  },
  {
   "cell_type": "markdown",
   "metadata": {},
   "source": [
    "# w/o gradient approximation"
   ]
  },
  {
   "cell_type": "code",
   "execution_count": 9,
   "metadata": {},
   "outputs": [
    {
     "data": {
      "application/vnd.jupyter.widget-view+json": {
       "model_id": "",
       "version_major": 2,
       "version_minor": 0
      },
      "text/plain": [
       "HBox(children=(FloatProgress(value=0.0, max=20.0), HTML(value='')))"
      ]
     },
     "metadata": {},
     "output_type": "display_data"
    },
    {
     "name": "stdout",
     "output_type": "stream",
     "text": [
      "1 \t 0.0005 \t 0.95 \t 0.98\n",
      "2 \t 0.0002 \t 0.99 \t 0.99\n",
      "3 \t 0.0000 \t 1.00 \t 0.99\n",
      "4 \t 0.0001 \t 1.00 \t 0.99\n",
      "5 \t 0.0000 \t 1.00 \t 0.99\n",
      "6 \t 0.0000 \t 1.00 \t 0.99\n",
      "7 \t 0.0000 \t 1.00 \t 0.99\n",
      "8 \t 0.0000 \t 1.00 \t 0.99\n",
      "9 \t 0.0000 \t 1.00 \t 0.99\n",
      "10 \t 0.0000 \t 1.00 \t 0.99\n",
      "11 \t 0.0000 \t 1.00 \t 0.99\n",
      "12 \t 0.0000 \t 1.00 \t 0.99\n",
      "13 \t 0.0000 \t 1.00 \t 0.99\n",
      "14 \t 0.0000 \t 1.00 \t 0.99\n",
      "15 \t 0.0000 \t 1.00 \t 0.99\n",
      "16 \t 0.0000 \t 1.00 \t 0.99\n",
      "17 \t 0.0000 \t 1.00 \t 0.99\n",
      "18 \t 0.0000 \t 1.00 \t 0.99\n",
      "19 \t 0.0000 \t 1.00 \t 0.99\n",
      "20 \t 0.0000 \t 1.00 \t 0.99\n",
      "\r"
     ]
    }
   ],
   "source": [
    "model = resnet.resnet18(num_channels=1, num_classes=output_size).to(device)\n",
    "model.load_state_dict(t.load('../ckpts/init/{}_resnet18.init'.format(dataset)))\n",
    "\n",
    "xb_train, yb_train = [], []\n",
    "xb_test, yb_test =[], []\n",
    "for _ in tqdm(range(1, epochs+1), leave=False):\n",
    "    xb_train.append(_)\n",
    "    correcti = 0\n",
    "    for idx, (data, labels) in enumerate(trainloader):\n",
    "        x, y = data.to(device), labels.to(device)\n",
    "        optimizer = t.optim.SGD(model.parameters(), lr=lr)\n",
    "        optimizer.zero_grad()\n",
    "        y_hat = model(x)\n",
    "        loss_val = loss(y_hat, y)\n",
    "        loss_val.backward()\n",
    "        optimizer.step()\n",
    "        predi = y_hat.argmax(1, keepdim=True)\n",
    "        correcti += predi.eq(y.view_as(predi)).sum().item()\n",
    "    yb_train.append(correcti/len(trainloader.dataset))\n",
    "    \n",
    "    correcti = 0\n",
    "    for idx, (data, labels) in enumerate(testloader):\n",
    "        x, y = data.to(device), labels.to(device)\n",
    "        y_hat = model(x)\n",
    "        loss_val = loss(y_hat, y)\n",
    "        predi = y_hat.argmax(1, keepdim=True)\n",
    "        correcti += predi.eq(y.view_as(predi)).sum().item()\n",
    "    yb_test.append(correcti/len(testloader.dataset))\n",
    "    print('{} \\t {:.4f} \\t {:.2f} \\t {:.2f}'.format(\n",
    "        xb_train[-1], loss_val.item(), yb_train[-1], yb_test[-1]\n",
    "    ))"
   ]
  },
  {
   "cell_type": "markdown",
   "metadata": {},
   "source": [
    "# gradient approximation using all directions"
   ]
  },
  {
   "cell_type": "code",
   "execution_count": null,
   "metadata": {},
   "outputs": [
    {
     "data": {
      "application/vnd.jupyter.widget-view+json": {
       "model_id": "2029b8db7c9c4c7596b64d348b6cd79f",
       "version_major": 2,
       "version_minor": 0
      },
      "text/plain": [
       "HBox(children=(FloatProgress(value=0.0, max=20.0), HTML(value='')))"
      ]
     },
     "metadata": {},
     "output_type": "display_data"
    },
    {
     "name": "stdout",
     "output_type": "stream",
     "text": [
      "1 \t 0.2591 \t 0.74 \t 0.89\n",
      "2 \t 0.2993 \t 0.91 \t 0.93\n",
      "3 \t 0.2589 \t 0.93 \t 0.94\n",
      "4 \t 0.4914 \t 0.95 \t 0.95\n",
      "5 \t 0.2466 \t 0.95 \t 0.95\n",
      "6 \t 0.1877 \t 0.96 \t 0.96\n",
      "7 \t 0.0325 \t 0.97 \t 0.96\n",
      "8 \t 0.1537 \t 0.97 \t 0.96\n",
      "9 \t 0.3799 \t 0.97 \t 0.96\n",
      "10 \t 0.0206 \t 0.97 \t 0.96\n",
      "11 \t 0.1862 \t 0.98 \t 0.97\n",
      "12 \t 0.0062 \t 0.98 \t 0.97\n",
      "13 \t 0.1191 \t 0.98 \t 0.97\n",
      "14 \t 0.2681 \t 0.98 \t 0.97\n"
     ]
    }
   ],
   "source": [
    "model = resnet.resnet18(num_channels=1, num_classes=output_size).to(device)\n",
    "model.load_state_dict(t.load('../ckpts/init/{}_resnet18.init'.format(dataset)))\n",
    "\n",
    "xa_train, ya_train = [], []\n",
    "xa_test, ya_test = [], []\n",
    "for _ in tqdm(range(1, epochs+1), leave=False):\n",
    "    start = time.time()\n",
    "    xa_train.append(_)\n",
    "    xa_test.append(_)\n",
    "    correcti = 0\n",
    "    for idx, (data, labels) in enumerate(trainloader):\n",
    "        x, y = data.to(device), labels.to(device)\n",
    "        optimizer = t.optim.SGD(model.parameters(), lr=lr)\n",
    "        optimizer.zero_grad()\n",
    "        y_hat = model(x)\n",
    "        loss_val = loss(y_hat, y)\n",
    "        loss_val.backward()\n",
    "        _, error = gradient_approximation(model, sdirs, device, [])\n",
    "        optimizer.step()\n",
    "        predi = y_hat.argmax(1, keepdim=True)\n",
    "        correcti += predi.eq(y.view_as(predi)).sum().item()\n",
    "    ya_train.append(correcti/len(trainloader.dataset))\n",
    "    \n",
    "    correcti = 0\n",
    "    for idx, (data, labels) in enumerate(testloader):\n",
    "        x, y = data.to(device), labels.to(device)\n",
    "        y_hat = model(x)\n",
    "        loss_val = loss(y_hat, y)\n",
    "        predi = y_hat.argmax(1, keepdim=True)\n",
    "        correcti += predi.eq(y.view_as(predi)).sum().item()\n",
    "    ya_test.append(correcti/len(testloader.dataset))\n",
    "    print('{} \\t {:.4f} \\t {:.2f} \\t {:.2f}'.format(\n",
    "        xa_train[-1], loss_val.item(), ya_train[-1], ya_test[-1]\n",
    "    ))"
   ]
  },
  {
   "cell_type": "markdown",
   "metadata": {},
   "source": [
    "# gradient approximation using n directions"
   ]
  },
  {
   "cell_type": "code",
   "execution_count": 10,
   "metadata": {},
   "outputs": [
    {
     "data": {
      "application/vnd.jupyter.widget-view+json": {
       "model_id": "",
       "version_major": 2,
       "version_minor": 0
      },
      "text/plain": [
       "HBox(children=(FloatProgress(value=0.0, max=20.0), HTML(value='')))"
      ]
     },
     "metadata": {},
     "output_type": "display_data"
    },
    {
     "name": "stdout",
     "output_type": "stream",
     "text": [
      "1 \t 2.3927 \t 0.13 \t 0.15\n",
      "2 \t 2.2874 \t 0.16 \t 0.18\n",
      "3 \t 2.1215 \t 0.20 \t 0.21\n",
      "4 \t 2.0889 \t 0.23 \t 0.24\n",
      "5 \t 2.0336 \t 0.24 \t 0.25\n",
      "6 \t 1.9763 \t 0.26 \t 0.27\n",
      "7 \t 2.0974 \t 0.27 \t 0.29\n",
      "8 \t 2.0452 \t 0.29 \t 0.29\n",
      "9 \t 2.0527 \t 0.30 \t 0.30\n",
      "10 \t 2.0319 \t 0.31 \t 0.32\n",
      "11 \t 1.8896 \t 0.32 \t 0.31\n",
      "12 \t 1.9420 \t 0.32 \t 0.33\n",
      "13 \t 1.9399 \t 0.32 \t 0.33\n",
      "14 \t 1.9857 \t 0.33 \t 0.34\n",
      "15 \t 2.0134 \t 0.34 \t 0.35\n",
      "16 \t 1.9739 \t 0.34 \t 0.35\n",
      "17 \t 1.8883 \t 0.35 \t 0.36\n",
      "18 \t 1.8782 \t 0.36 \t 0.37\n",
      "19 \t 1.9320 \t 0.37 \t 0.38\n",
      "20 \t 1.8743 \t 0.38 \t 0.39\n",
      "\r"
     ]
    }
   ],
   "source": [
    "n = 1\n",
    "model = resnet.resnet18(num_channels=1, num_classes=output_size).to(device)\n",
    "model.load_state_dict(t.load('../ckpts/init/{}_resnet18.init'.format(dataset)))\n",
    "\n",
    "xe_train, ye_train = [], []\n",
    "xe_test, ye_test = [], []\n",
    "for _ in tqdm(range(1, epochs+1), leave=False):\n",
    "    start = time.time()\n",
    "    xe_train.append(_)\n",
    "    xe_test.append(_)\n",
    "    correcti = 0\n",
    "    for idx, (data, labels) in enumerate(trainloader):\n",
    "        x, y = data.to(device), labels.to(device)\n",
    "        optimizer = t.optim.SGD(model.parameters(), lr=lr)\n",
    "        optimizer.zero_grad()\n",
    "        y_hat = model(x)\n",
    "        loss_val = loss(y_hat, y)\n",
    "        loss_val.backward()\n",
    "        _, error = gradient_approximation(\n",
    "            model, \n",
    "            [sdirs[idx]], device, [])\n",
    "        optimizer.step()\n",
    "        predi = y_hat.argmax(1, keepdim=True)\n",
    "        correcti += predi.eq(y.view_as(predi)).sum().item()\n",
    "    ye_train.append(correcti/len(trainloader.dataset))\n",
    "    \n",
    "    correcti = 0\n",
    "    for idx, (data, labels) in enumerate(testloader):\n",
    "        x, y = data.to(device), labels.to(device)\n",
    "        y_hat = model(x)\n",
    "        loss_val = loss(y_hat, y)\n",
    "        predi = y_hat.argmax(1, keepdim=True)\n",
    "        correcti += predi.eq(y.view_as(predi)).sum().item()\n",
    "    ye_test.append(correcti/len(testloader.dataset))\n",
    "    print('{} \\t {:.4f} \\t {:.2f} \\t {:.2f}'.format(\n",
    "        xe_train[-1], loss_val.item(), ye_train[-1], ye_test[-1]\n",
    "    ))"
   ]
  },
  {
   "cell_type": "code",
   "execution_count": 11,
   "metadata": {},
   "outputs": [
    {
     "data": {
      "application/vnd.jupyter.widget-view+json": {
       "model_id": "",
       "version_major": 2,
       "version_minor": 0
      },
      "text/plain": [
       "HBox(children=(FloatProgress(value=0.0, max=20.0), HTML(value='')))"
      ]
     },
     "metadata": {},
     "output_type": "display_data"
    },
    {
     "name": "stdout",
     "output_type": "stream",
     "text": [
      "1 \t 1.9776 \t 0.23 \t 0.31\n",
      "2 \t 1.5760 \t 0.36 \t 0.42\n",
      "3 \t 1.8013 \t 0.46 \t 0.50\n",
      "4 \t 1.3970 \t 0.52 \t 0.56\n",
      "5 \t 1.3149 \t 0.57 \t 0.62\n",
      "6 \t 1.1187 \t 0.62 \t 0.66\n",
      "7 \t 1.0162 \t 0.65 \t 0.69\n",
      "8 \t 0.8869 \t 0.68 \t 0.72\n",
      "9 \t 0.9180 \t 0.71 \t 0.73\n",
      "10 \t 0.7677 \t 0.72 \t 0.75\n",
      "11 \t 0.8239 \t 0.74 \t 0.76\n",
      "12 \t 0.8077 \t 0.76 \t 0.78\n",
      "13 \t 0.7694 \t 0.77 \t 0.78\n",
      "14 \t 0.7489 \t 0.78 \t 0.79\n",
      "15 \t 0.7927 \t 0.79 \t 0.80\n",
      "16 \t 0.6556 \t 0.80 \t 0.81\n",
      "17 \t 0.6222 \t 0.80 \t 0.81\n",
      "18 \t 0.5777 \t 0.81 \t 0.82\n",
      "19 \t 0.6012 \t 0.81 \t 0.83\n",
      "20 \t 0.5490 \t 0.82 \t 0.83\n",
      "\r"
     ]
    }
   ],
   "source": [
    "n = 10\n",
    "model = resnet.resnet18(num_channels=1, num_classes=output_size).to(device)\n",
    "model.load_state_dict(t.load('../ckpts/init/{}_resnet18.init'.format(dataset)))\n",
    "\n",
    "xc_train, yc_train = [], []\n",
    "xc_test, yc_test = [], []\n",
    "for _ in tqdm(range(1, epochs+1), leave=False):\n",
    "    start = time.time()\n",
    "    xc_train.append(_)\n",
    "    xc_test.append(_)\n",
    "    correcti = 0\n",
    "    for idx, (data, labels) in enumerate(trainloader):\n",
    "        x, y = data.to(device), labels.to(device)\n",
    "        optimizer = t.optim.SGD(model.parameters(), lr=lr)\n",
    "        optimizer.zero_grad()\n",
    "        y_hat = model(x)\n",
    "        loss_val = loss(y_hat, y)\n",
    "        loss_val.backward()\n",
    "        _, error = gradient_approximation(\n",
    "            model, \n",
    "            sdirs[idx: idx+n], device, [])\n",
    "        optimizer.step()\n",
    "        predi = y_hat.argmax(1, keepdim=True)\n",
    "        correcti += predi.eq(y.view_as(predi)).sum().item()\n",
    "    yc_train.append(correcti/len(trainloader.dataset))\n",
    "    \n",
    "    correcti = 0\n",
    "    for idx, (data, labels) in enumerate(testloader):\n",
    "        x, y = data.to(device), labels.to(device)\n",
    "        y_hat = model(x)\n",
    "        loss_val = loss(y_hat, y)\n",
    "        predi = y_hat.argmax(1, keepdim=True)\n",
    "        correcti += predi.eq(y.view_as(predi)).sum().item()\n",
    "    yc_test.append(correcti/len(testloader.dataset))\n",
    "    print('{} \\t {:.4f} \\t {:.2f} \\t {:.2f}'.format(\n",
    "        xc_train[-1], loss_val.item(), yc_train[-1], yc_test[-1]\n",
    "    ))"
   ]
  },
  {
   "cell_type": "code",
   "execution_count": 14,
   "metadata": {},
   "outputs": [
    {
     "data": {
      "application/vnd.jupyter.widget-view+json": {
       "model_id": "",
       "version_major": 2,
       "version_minor": 0
      },
      "text/plain": [
       "HBox(children=(FloatProgress(value=0.0, max=20.0), HTML(value='')))"
      ]
     },
     "metadata": {},
     "output_type": "display_data"
    },
    {
     "name": "stdout",
     "output_type": "stream",
     "text": [
      "1 \t 0.9657 \t 0.54 \t 0.73\n",
      "2 \t 0.2066 \t 0.79 \t 0.84\n",
      "3 \t 0.1581 \t 0.86 \t 0.88\n",
      "4 \t 0.0790 \t 0.89 \t 0.90\n",
      "5 \t 0.0336 \t 0.90 \t 0.91\n",
      "6 \t 0.0153 \t 0.92 \t 0.92\n",
      "7 \t 0.0128 \t 0.92 \t 0.93\n",
      "8 \t 0.0154 \t 0.93 \t 0.93\n",
      "9 \t 0.0072 \t 0.94 \t 0.93\n",
      "10 \t 0.0054 \t 0.94 \t 0.94\n",
      "11 \t 0.0054 \t 0.95 \t 0.94\n",
      "12 \t 0.0055 \t 0.95 \t 0.94\n",
      "13 \t 0.0046 \t 0.95 \t 0.94\n",
      "14 \t 0.0038 \t 0.95 \t 0.95\n",
      "15 \t 0.0025 \t 0.95 \t 0.95\n",
      "16 \t 0.0033 \t 0.96 \t 0.95\n",
      "17 \t 0.0028 \t 0.96 \t 0.95\n",
      "18 \t 0.0025 \t 0.96 \t 0.95\n",
      "19 \t 0.0027 \t 0.96 \t 0.95\n",
      "20 \t 0.0040 \t 0.96 \t 0.95\n",
      "\r"
     ]
    }
   ],
   "source": [
    "n = 100\n",
    "model = resnet.resnet18(num_channels=1, num_classes=output_size).to(device)\n",
    "model.load_state_dict(t.load('../ckpts/init/{}_resnet18.init'.format(dataset)))\n",
    "\n",
    "xd_train, yd_train = [], []\n",
    "xd_test, yd_test = [], []\n",
    "for _ in tqdm(range(1, epochs+1), leave=False):\n",
    "    start = time.time()\n",
    "    xd_train.append(_)\n",
    "    xd_test.append(_)\n",
    "    correcti = 0\n",
    "    for idx, (data, labels) in enumerate(trainloader):\n",
    "        x, y = data.to(device), labels.to(device)\n",
    "        optimizer = t.optim.SGD(model.parameters(), lr=lr)\n",
    "        optimizer.zero_grad()\n",
    "        y_hat = model(x)\n",
    "        loss_val = loss(y_hat, y)\n",
    "        loss_val.backward()\n",
    "        _, error = gradient_approximation(\n",
    "            model, \n",
    "            sdirs[idx: idx+n], device, [])\n",
    "        optimizer.step()\n",
    "        predi = y_hat.argmax(1, keepdim=True)\n",
    "        correcti += predi.eq(y.view_as(predi)).sum().item()\n",
    "    yd_train.append(correcti/len(trainloader.dataset))\n",
    "    \n",
    "    correcti = 0\n",
    "    for idx, (data, labels) in enumerate(testloader):\n",
    "        x, y = data.to(device), labels.to(device)\n",
    "        y_hat = model(x)\n",
    "        loss_val = loss(y_hat, y)\n",
    "        predi = y_hat.argmax(1, keepdim=True)\n",
    "        correcti += predi.eq(y.view_as(predi)).sum().item()\n",
    "    yd_test.append(correcti/len(testloader.dataset))\n",
    "    print('{} \\t {:.4f} \\t {:.2f} \\t {:.2f}'.format(\n",
    "        xd_train[-1], loss_val.item(), yd_train[-1], yd_test[-1]\n",
    "    ))"
   ]
  },
  {
   "cell_type": "code",
   "execution_count": 15,
   "metadata": {},
   "outputs": [
    {
     "name": "stdout",
     "output_type": "stream",
     "text": [
      "clf_resnet18_mnist_algo_pca_bs_16_sgd_vs_sgd_approx_random_proj_sampling\n"
     ]
    },
    {
     "data": {
      "image/png": "[encoded data removed]",
      "text/plain": [
       "<Figure size 432x288 with 1 Axes>"
      ]
     },
     "metadata": {
      "needs_background": "light"
     },
     "output_type": "display_data"
    }
   ],
   "source": [
    "plt.figure()\n",
    "plt.plot([x_test]+xb_train, [y_test]+yb_test, label='SGD', c='r')\n",
    "# plt.plot([x_test]+xa_train, [y_test]+ya_test, label='SGD {}-approx.'.format(len(sdirs)), c='b')\n",
    "plt.plot([x_test]+xc_train, [y_test]+yc_test, label='SGD 10-approx.', c='g')\n",
    "plt.plot([x_test]+xd_train, [y_test]+yd_test, label='SGD 100-approx.', c='k')\n",
    "plt.plot([x_test]+xe_train, [y_test]+ye_test, label='SGD 1-approx.', c='c')\n",
    "\n",
    "history = {\n",
    "    'test': [x_test, y_test],\n",
    "#     'a': [xa_train, ya_train, xa_test, ya_test],\n",
    "    'b': [xb_train, yb_train, xb_test, yb_test],\n",
    "    'c': [xc_train, yc_train, xc_test, yc_test],\n",
    "    'd': [xd_train, yd_train, xd_test, yd_test],\n",
    "    'e': [xe_train, ye_train, xe_test, ye_test],\n",
    "}\n",
    "\n",
    "name = 'clf_{}_{}_algo_{}_bs_{}_sgd_vs_sgd_approx_random_proj_sampling'.format(\n",
    "    'resnet18', dataset, sdirs_algo, bs)\n",
    "print(name)\n",
    "\n",
    "pkl.dump(history, open('../ckpts/history/{}.pkl'.format(name), 'wb'))\n",
    "\n",
    "plt.xlabel('epochs')\n",
    "plt.ylabel('accuracy')\n",
    "plt.legend()\n",
    "plt.savefig(\n",
    "    '../ckpts/plots/{}.png'.format(name), \n",
    "    dpi=300, bbox_inches='tight'\n",
    ")"
   ]
  },
  {
   "cell_type": "markdown",
   "metadata": {},
   "source": [
    "# Comparisons"
   ]
  },
  {
   "cell_type": "code",
   "execution_count": 16,
   "metadata": {},
   "outputs": [
    {
     "name": "stdout",
     "output_type": "stream",
     "text": [
      "clf_resnet18_mnist_algo_pca_bs_16_sgd_vs_sgd_approx_comparison\n"
     ]
    },
    {
     "data": {
      "image/png": "[encoded data removed]",
      "text/plain": [
       "<Figure size 432x288 with 1 Axes>"
      ]
     },
     "metadata": {
      "needs_background": "light"
     },
     "output_type": "display_data"
    }
   ],
   "source": [
    "name = 'clf_{}_{}_algo_{}_bs_{}_sgd_vs_sgd_approx_random_proj_sampling'.format(\n",
    "    'resnet18', dataset, sdirs_algo, bs)\n",
    "\n",
    "history = pkl.load(open('../ckpts/history/{}.pkl'.format(name), 'rb'))\n",
    "h = pkl.load(open('../ckpts/history/{}.pkl'.format(name.replace('proj', 'grad')), 'rb'))\n",
    "\n",
    "plt.figure()\n",
    "plt.plot([history['test'][0]]+history['b'][0], [history['test'][1]]+history['b'][-1],\n",
    "         label='SGD', c='r')\n",
    "plt.plot([history['test'][0]]+history['d'][0], [history['test'][1]]+history['d'][-1], \n",
    "         label='SGD 100-random.', c='k', linestyle='--')\n",
    "plt.plot([h['test'][0]]+h['d'][0], [h['test'][1]]+h['d'][-1], label='SGD 100-grad.', c='k')\n",
    "plt.plot([history['test'][0]]+history['c'][0], [history['test'][1]]+history['c'][-1], \n",
    "         label='SGD 10-random.', c='g', linestyle='--')\n",
    "plt.plot([h['test'][0]]+h['c'][0], [h['test'][1]]+h['c'][-1], label='SGD 10-grad.', c='g')\n",
    "plt.plot([history['test'][0]]+history['e'][0], [history['test'][1]]+history['e'][-1], \n",
    "         label='SGD 1-random.', c='c', linestyle='--')\n",
    "plt.plot([h['test'][0]]+h['e'][0], [h['test'][1]]+h['e'][-1], label='SGD 1-grad.', c='c')\n",
    "\n",
    "plt.xlabel('epochs')\n",
    "plt.ylabel('accuracy')\n",
    "plt.legend()\n",
    "cname = 'clf_{}_{}_algo_{}_bs_{}_sgd_vs_sgd_approx_comparison'.format(\n",
    "    'resnet18', dataset, sdirs_algo, bs)\n",
    "print(cname)\n",
    "plt.savefig(\n",
    "    '../ckpts/plots/{}.png'.format(cname), \n",
    "    dpi=300, bbox_inches='tight'\n",
    ")"
   ]
  },
  {
   "cell_type": "code",
   "execution_count": null,
   "metadata": {},
   "outputs": [],
   "source": []
  }
 ],
 "metadata": {
  "kernelspec": {
   "display_name": "Python 3",
   "language": "python",
   "name": "python3"
  },
  "language_info": {
   "codemirror_mode": {
    "name": "ipython",
    "version": 3
   },
   "file_extension": ".py",
   "mimetype": "text/x-python",
   "name": "python",
   "nbconvert_exporter": "python",
   "pygments_lexer": "ipython3",
   "version": "3.7.6"
  }
 },
 "nbformat": 4,
 "nbformat_minor": 4
}
